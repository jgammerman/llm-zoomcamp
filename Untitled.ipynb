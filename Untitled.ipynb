{
 "cells": [
  {
   "cell_type": "code",
   "execution_count": 1,
   "id": "e56fcd49-1f11-4597-88b2-90b7c0f79a56",
   "metadata": {},
   "outputs": [],
   "source": [
    "import openai"
   ]
  },
  {
   "cell_type": "code",
   "execution_count": 2,
   "id": "c34d0188-cfac-40a8-b30e-e887aafd72b7",
   "metadata": {},
   "outputs": [],
   "source": [
    "from openai import OpenAI"
   ]
  },
  {
   "cell_type": "code",
   "execution_count": 4,
   "id": "8f4ed6d7-fd28-4c6d-8b16-9a418c8d0ed0",
   "metadata": {},
   "outputs": [],
   "source": [
    "client = OpenAI()"
   ]
  },
  {
   "cell_type": "code",
   "execution_count": 6,
   "id": "8c1ba575-dc7e-4449-a587-8c014a2ff852",
   "metadata": {},
   "outputs": [],
   "source": [
    "import sys"
   ]
  },
  {
   "cell_type": "code",
   "execution_count": 14,
   "id": "0fa5de5a-cf6b-4130-908b-349290fe0f5a",
   "metadata": {},
   "outputs": [],
   "source": [
    "# os.environ"
   ]
  },
  {
   "cell_type": "markdown",
   "id": "7216d23f-dd85-4dd4-9812-d745a7603641",
   "metadata": {},
   "source": [
    "Found 'OPENAI_API_KEY'"
   ]
  },
  {
   "cell_type": "code",
   "execution_count": 10,
   "id": "9fba72b4-3568-44e9-8386-1f201f026fa6",
   "metadata": {},
   "outputs": [],
   "source": [
    "response = client.chat.completions.create(\n",
    "    model='gpt-4o',\n",
    "    messages=[{\"role\": \"user\", \"content\": \"is it too late to join the course?\"}]\n",
    ")"
   ]
  },
  {
   "cell_type": "code",
   "execution_count": 11,
   "id": "cd867c2e-e13c-4f40-9b52-a62f2c7f9283",
   "metadata": {},
   "outputs": [
    {
     "data": {
      "text/plain": [
       "ChatCompletion(id='chatcmpl-A1Wikj0oowHtAqQWFtHGUw19dGOj3', choices=[Choice(finish_reason='stop', index=0, logprobs=None, message=ChatCompletionMessage(content=\"It depends on the course and the specific deadlines set by the institution offering it. Typically, each course will have its own enrollment period, and some may allow late registration while others might not.\\n\\nTo get the most accurate answer, you should:\\n1. Check the course website or the institution’s official page for enrollment deadlines.\\n2. Contact the course administrator or the institution’s admissions office directly.\\n3. Consider if there are any prerequisites or initial materials you might have missed and how critical they are to keep up with the course content.\\n\\nIn some cases, instructors may be flexible and allow you to join late if you reach out and explain your situation. However, it's always better to check as early as possible.\", refusal=None, role='assistant', function_call=None, tool_calls=None))], created=1724927470, model='gpt-4o-2024-05-13', object='chat.completion', service_tier=None, system_fingerprint='fp_157b3831f5', usage=CompletionUsage(completion_tokens=141, prompt_tokens=16, total_tokens=157))"
      ]
     },
     "execution_count": 11,
     "metadata": {},
     "output_type": "execute_result"
    }
   ],
   "source": [
    "response"
   ]
  },
  {
   "cell_type": "code",
   "execution_count": 13,
   "id": "ed84b652-ad53-48a2-8d0a-97354aa04569",
   "metadata": {},
   "outputs": [
    {
     "data": {
      "text/plain": [
       "\"It depends on the course and the specific deadlines set by the institution offering it. Typically, each course will have its own enrollment period, and some may allow late registration while others might not.\\n\\nTo get the most accurate answer, you should:\\n1. Check the course website or the institution’s official page for enrollment deadlines.\\n2. Contact the course administrator or the institution’s admissions office directly.\\n3. Consider if there are any prerequisites or initial materials you might have missed and how critical they are to keep up with the course content.\\n\\nIn some cases, instructors may be flexible and allow you to join late if you reach out and explain your situation. However, it's always better to check as early as possible.\""
      ]
     },
     "execution_count": 13,
     "metadata": {},
     "output_type": "execute_result"
    }
   ],
   "source": [
    "response.choices[0].message.content"
   ]
  },
  {
   "cell_type": "raw",
   "id": "d226dda4-485f-4458-aba4-c2c689e8c2c1",
   "metadata": {},
   "source": []
  },
  {
   "cell_type": "code",
   "execution_count": null,
   "id": "60d922bd-9924-4aa4-9ef4-aaf19d4bb470",
   "metadata": {},
   "outputs": [],
   "source": []
  }
 ],
 "metadata": {
  "kernelspec": {
   "display_name": "Python 3 (ipykernel)",
   "language": "python",
   "name": "python3"
  },
  "language_info": {
   "codemirror_mode": {
    "name": "ipython",
    "version": 3
   },
   "file_extension": ".py",
   "mimetype": "text/x-python",
   "name": "python",
   "nbconvert_exporter": "python",
   "pygments_lexer": "ipython3",
   "version": "3.12.1"
  }
 },
 "nbformat": 4,
 "nbformat_minor": 5
}
