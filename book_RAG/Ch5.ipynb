{
 "cells": [
  {
   "cell_type": "code",
   "execution_count": 1,
   "id": "35d0a78c-e742-4989-befa-38619c2f4514",
   "metadata": {},
   "outputs": [
    {
     "name": "stderr",
     "output_type": "stream",
     "text": [
      "Fetching pages: 100%|###########################################################################| 1/1 [00:00<00:00, 17.17it/s]\n"
     ]
    }
   ],
   "source": [
    "#Importing the AsyncHtmlLoader\n",
    "from langchain_community.document_loaders import AsyncHtmlLoader\n",
    "\n",
    "#This is the url of the wikipedia page on the 2023 Cricket World Cup\n",
    "url=\"https://en.wikipedia.org/wiki/2023_Cricket_World_Cup\"\n",
    "\n",
    "#Instantiating the AsyncHtmlLoader\n",
    "loader = AsyncHtmlLoader (url)\n",
    "\n",
    "#Loading the extracted information\n",
    "data = loader.load()\n",
    "\n",
    "from langchain_community.document_transformers import Html2TextTransformer\n",
    "\n",
    "#Instantiate the Html2TextTransformer function\n",
    "html2text = Html2TextTransformer()\n",
    "\n",
    "\n",
    "#Call transform_documents\n",
    "data_transformed = html2text.transform_documents(data)"
   ]
  },
  {
   "cell_type": "code",
   "execution_count": 2,
   "id": "fe1bd58f-7f64-48b9-9857-9c8cccbc27e6",
   "metadata": {},
   "outputs": [
    {
     "name": "stdout",
     "output_type": "stream",
     "text": [
      "Requirement already satisfied: ragas==0.1.11 in /usr/local/python/3.12.1/lib/python3.12/site-packages (0.1.11)\n",
      "Requirement already satisfied: numpy in /usr/local/python/3.12.1/lib/python3.12/site-packages (from ragas==0.1.11) (1.26.4)\n",
      "Requirement already satisfied: datasets in /usr/local/python/3.12.1/lib/python3.12/site-packages (from ragas==0.1.11) (2.20.0)\n",
      "Requirement already satisfied: tiktoken in /usr/local/python/3.12.1/lib/python3.12/site-packages (from ragas==0.1.11) (0.7.0)\n",
      "Requirement already satisfied: langchain in /usr/local/python/3.12.1/lib/python3.12/site-packages (from ragas==0.1.11) (0.1.20)\n",
      "Requirement already satisfied: langchain-core in /usr/local/python/3.12.1/lib/python3.12/site-packages (from ragas==0.1.11) (0.1.52)\n",
      "Requirement already satisfied: langchain-community in /usr/local/python/3.12.1/lib/python3.12/site-packages (from ragas==0.1.11) (0.0.38)\n",
      "Requirement already satisfied: langchain-openai in /usr/local/python/3.12.1/lib/python3.12/site-packages (from ragas==0.1.11) (0.1.6)\n",
      "Requirement already satisfied: openai>1 in /usr/local/python/3.12.1/lib/python3.12/site-packages (from ragas==0.1.11) (1.37.0)\n",
      "Requirement already satisfied: pysbd>=0.3.4 in /usr/local/python/3.12.1/lib/python3.12/site-packages (from ragas==0.1.11) (0.3.4)\n",
      "Requirement already satisfied: nest-asyncio in /home/codespace/.local/lib/python3.12/site-packages (from ragas==0.1.11) (1.6.0)\n",
      "Requirement already satisfied: appdirs in /usr/local/python/3.12.1/lib/python3.12/site-packages (from ragas==0.1.11) (1.4.4)\n",
      "Requirement already satisfied: anyio<5,>=3.5.0 in /home/codespace/.local/lib/python3.12/site-packages (from openai>1->ragas==0.1.11) (4.4.0)\n",
      "Requirement already satisfied: distro<2,>=1.7.0 in /usr/local/python/3.12.1/lib/python3.12/site-packages (from openai>1->ragas==0.1.11) (1.9.0)\n",
      "Requirement already satisfied: httpx<1,>=0.23.0 in /home/codespace/.local/lib/python3.12/site-packages (from openai>1->ragas==0.1.11) (0.27.0)\n",
      "Requirement already satisfied: pydantic<3,>=1.9.0 in /usr/local/python/3.12.1/lib/python3.12/site-packages (from openai>1->ragas==0.1.11) (2.8.2)\n",
      "Requirement already satisfied: sniffio in /home/codespace/.local/lib/python3.12/site-packages (from openai>1->ragas==0.1.11) (1.3.1)\n",
      "Requirement already satisfied: tqdm>4 in /usr/local/python/3.12.1/lib/python3.12/site-packages (from openai>1->ragas==0.1.11) (4.66.4)\n",
      "Requirement already satisfied: typing-extensions<5,>=4.7 in /usr/local/python/3.12.1/lib/python3.12/site-packages (from openai>1->ragas==0.1.11) (4.12.2)\n",
      "Requirement already satisfied: filelock in /home/codespace/.local/lib/python3.12/site-packages (from datasets->ragas==0.1.11) (3.13.1)\n",
      "Requirement already satisfied: pyarrow>=15.0.0 in /usr/local/python/3.12.1/lib/python3.12/site-packages (from datasets->ragas==0.1.11) (17.0.0)\n",
      "Requirement already satisfied: pyarrow-hotfix in /usr/local/python/3.12.1/lib/python3.12/site-packages (from datasets->ragas==0.1.11) (0.6)\n",
      "Requirement already satisfied: dill<0.3.9,>=0.3.0 in /usr/local/python/3.12.1/lib/python3.12/site-packages (from datasets->ragas==0.1.11) (0.3.8)\n",
      "Requirement already satisfied: pandas in /home/codespace/.local/lib/python3.12/site-packages (from datasets->ragas==0.1.11) (2.2.2)\n",
      "Requirement already satisfied: requests>=2.32.2 in /home/codespace/.local/lib/python3.12/site-packages (from datasets->ragas==0.1.11) (2.32.3)\n",
      "Requirement already satisfied: xxhash in /usr/local/python/3.12.1/lib/python3.12/site-packages (from datasets->ragas==0.1.11) (3.5.0)\n",
      "Requirement already satisfied: multiprocess in /usr/local/python/3.12.1/lib/python3.12/site-packages (from datasets->ragas==0.1.11) (0.70.16)\n",
      "Requirement already satisfied: fsspec<=2024.5.0,>=2023.1.0 in /home/codespace/.local/lib/python3.12/site-packages (from fsspec[http]<=2024.5.0,>=2023.1.0->datasets->ragas==0.1.11) (2024.2.0)\n",
      "Requirement already satisfied: aiohttp in /usr/local/python/3.12.1/lib/python3.12/site-packages (from datasets->ragas==0.1.11) (3.10.5)\n",
      "Requirement already satisfied: huggingface-hub>=0.21.2 in /usr/local/python/3.12.1/lib/python3.12/site-packages (from datasets->ragas==0.1.11) (0.24.7)\n",
      "Requirement already satisfied: packaging in /usr/local/python/3.12.1/lib/python3.12/site-packages (from datasets->ragas==0.1.11) (23.2)\n",
      "Requirement already satisfied: pyyaml>=5.1 in /home/codespace/.local/lib/python3.12/site-packages (from datasets->ragas==0.1.11) (6.0.2)\n",
      "Requirement already satisfied: SQLAlchemy<3,>=1.4 in /usr/local/python/3.12.1/lib/python3.12/site-packages (from langchain->ragas==0.1.11) (2.0.32)\n",
      "Requirement already satisfied: dataclasses-json<0.7,>=0.5.7 in /usr/local/python/3.12.1/lib/python3.12/site-packages (from langchain->ragas==0.1.11) (0.6.7)\n",
      "Collecting langchain-text-splitters<0.1,>=0.0.1 (from langchain->ragas==0.1.11)\n",
      "  Using cached langchain_text_splitters-0.0.2-py3-none-any.whl.metadata (2.2 kB)\n",
      "Requirement already satisfied: langsmith<0.2.0,>=0.1.17 in /usr/local/python/3.12.1/lib/python3.12/site-packages (from langchain->ragas==0.1.11) (0.1.120)\n",
      "Requirement already satisfied: tenacity<9.0.0,>=8.1.0 in /usr/local/python/3.12.1/lib/python3.12/site-packages (from langchain->ragas==0.1.11) (8.5.0)\n",
      "Requirement already satisfied: jsonpatch<2.0,>=1.33 in /usr/local/python/3.12.1/lib/python3.12/site-packages (from langchain-core->ragas==0.1.11) (1.33)\n",
      "Requirement already satisfied: regex>=2022.1.18 in /usr/local/python/3.12.1/lib/python3.12/site-packages (from tiktoken->ragas==0.1.11) (2024.7.24)\n",
      "Requirement already satisfied: aiohappyeyeballs>=2.3.0 in /usr/local/python/3.12.1/lib/python3.12/site-packages (from aiohttp->datasets->ragas==0.1.11) (2.4.0)\n",
      "Requirement already satisfied: aiosignal>=1.1.2 in /usr/local/python/3.12.1/lib/python3.12/site-packages (from aiohttp->datasets->ragas==0.1.11) (1.3.1)\n",
      "Requirement already satisfied: attrs>=17.3.0 in /home/codespace/.local/lib/python3.12/site-packages (from aiohttp->datasets->ragas==0.1.11) (24.2.0)\n",
      "Requirement already satisfied: frozenlist>=1.1.1 in /usr/local/python/3.12.1/lib/python3.12/site-packages (from aiohttp->datasets->ragas==0.1.11) (1.4.1)\n",
      "Requirement already satisfied: multidict<7.0,>=4.5 in /usr/local/python/3.12.1/lib/python3.12/site-packages (from aiohttp->datasets->ragas==0.1.11) (6.1.0)\n",
      "Requirement already satisfied: yarl<2.0,>=1.0 in /usr/local/python/3.12.1/lib/python3.12/site-packages (from aiohttp->datasets->ragas==0.1.11) (1.11.1)\n",
      "Requirement already satisfied: idna>=2.8 in /home/codespace/.local/lib/python3.12/site-packages (from anyio<5,>=3.5.0->openai>1->ragas==0.1.11) (3.7)\n",
      "Requirement already satisfied: marshmallow<4.0.0,>=3.18.0 in /usr/local/python/3.12.1/lib/python3.12/site-packages (from dataclasses-json<0.7,>=0.5.7->langchain->ragas==0.1.11) (3.22.0)\n",
      "Requirement already satisfied: typing-inspect<1,>=0.4.0 in /usr/local/python/3.12.1/lib/python3.12/site-packages (from dataclasses-json<0.7,>=0.5.7->langchain->ragas==0.1.11) (0.9.0)\n",
      "Requirement already satisfied: certifi in /home/codespace/.local/lib/python3.12/site-packages (from httpx<1,>=0.23.0->openai>1->ragas==0.1.11) (2024.7.4)\n",
      "Requirement already satisfied: httpcore==1.* in /home/codespace/.local/lib/python3.12/site-packages (from httpx<1,>=0.23.0->openai>1->ragas==0.1.11) (1.0.5)\n",
      "Requirement already satisfied: h11<0.15,>=0.13 in /home/codespace/.local/lib/python3.12/site-packages (from httpcore==1.*->httpx<1,>=0.23.0->openai>1->ragas==0.1.11) (0.14.0)\n",
      "Requirement already satisfied: jsonpointer>=1.9 in /home/codespace/.local/lib/python3.12/site-packages (from jsonpatch<2.0,>=1.33->langchain-core->ragas==0.1.11) (3.0.0)\n",
      "Requirement already satisfied: orjson<4.0.0,>=3.9.14 in /usr/local/python/3.12.1/lib/python3.12/site-packages (from langsmith<0.2.0,>=0.1.17->langchain->ragas==0.1.11) (3.10.7)\n",
      "Requirement already satisfied: annotated-types>=0.4.0 in /usr/local/python/3.12.1/lib/python3.12/site-packages (from pydantic<3,>=1.9.0->openai>1->ragas==0.1.11) (0.7.0)\n",
      "Requirement already satisfied: pydantic-core==2.20.1 in /usr/local/python/3.12.1/lib/python3.12/site-packages (from pydantic<3,>=1.9.0->openai>1->ragas==0.1.11) (2.20.1)\n",
      "Requirement already satisfied: charset-normalizer<4,>=2 in /home/codespace/.local/lib/python3.12/site-packages (from requests>=2.32.2->datasets->ragas==0.1.11) (3.3.2)\n",
      "Requirement already satisfied: urllib3<3,>=1.21.1 in /home/codespace/.local/lib/python3.12/site-packages (from requests>=2.32.2->datasets->ragas==0.1.11) (2.2.2)\n",
      "Requirement already satisfied: greenlet!=0.4.17 in /usr/local/python/3.12.1/lib/python3.12/site-packages (from SQLAlchemy<3,>=1.4->langchain->ragas==0.1.11) (3.0.3)\n",
      "Requirement already satisfied: python-dateutil>=2.8.2 in /home/codespace/.local/lib/python3.12/site-packages (from pandas->datasets->ragas==0.1.11) (2.9.0.post0)\n",
      "Requirement already satisfied: pytz>=2020.1 in /home/codespace/.local/lib/python3.12/site-packages (from pandas->datasets->ragas==0.1.11) (2024.1)\n",
      "Requirement already satisfied: tzdata>=2022.7 in /home/codespace/.local/lib/python3.12/site-packages (from pandas->datasets->ragas==0.1.11) (2024.1)\n",
      "Requirement already satisfied: six>=1.5 in /home/codespace/.local/lib/python3.12/site-packages (from python-dateutil>=2.8.2->pandas->datasets->ragas==0.1.11) (1.16.0)\n",
      "Requirement already satisfied: mypy-extensions>=0.3.0 in /usr/local/python/3.12.1/lib/python3.12/site-packages (from typing-inspect<1,>=0.4.0->dataclasses-json<0.7,>=0.5.7->langchain->ragas==0.1.11) (1.0.0)\n",
      "Using cached langchain_text_splitters-0.0.2-py3-none-any.whl (23 kB)\n",
      "Installing collected packages: langchain-text-splitters\n",
      "  Attempting uninstall: langchain-text-splitters\n",
      "    Found existing installation: langchain-text-splitters 0.2.4\n",
      "    Uninstalling langchain-text-splitters-0.2.4:\n",
      "      Successfully uninstalled langchain-text-splitters-0.2.4\n",
      "Successfully installed langchain-text-splitters-0.0.2\n",
      "Note: you may need to restart the kernel to use updated packages.\n"
     ]
    },
    {
     "data": {
      "application/vnd.jupyter.widget-view+json": {
       "model_id": "",
       "version_major": 2,
       "version_minor": 0
      },
      "text/plain": [
       "embedding nodes:   0%|          | 0/36 [00:00<?, ?it/s]"
      ]
     },
     "metadata": {},
     "output_type": "display_data"
    },
    {
     "name": "stderr",
     "output_type": "stream",
     "text": [
      "Filename and doc_id are the same for all nodes.\n"
     ]
    },
    {
     "data": {
      "application/vnd.jupyter.widget-view+json": {
       "model_id": "0764ab7b2f85463db8a062e3f7f2a2fa",
       "version_major": 2,
       "version_minor": 0
      },
      "text/plain": [
       "Generating:   0%|          | 0/20 [00:00<?, ?it/s]"
      ]
     },
     "metadata": {},
     "output_type": "display_data"
    }
   ],
   "source": [
    "%pip install ragas==0.1.11\n",
    " \n",
    "# Import necessary libraries\n",
    "from ragas.testset.generator import TestsetGenerator\n",
    "from ragas.testset.evolutions import simple, reasoning, multi_context\n",
    "from langchain_openai import ChatOpenAI, OpenAIEmbeddings\n",
    "\n",
    "# Instantiate the models\n",
    "generator_llm = ChatOpenAI(model=\"gpt-4o-mini\")\n",
    "critic_llm = ChatOpenAI(model=\"gpt-4o-mini\")\n",
    "embeddings = OpenAIEmbeddings()\n",
    "\n",
    "# Create the TestsetGenerator\n",
    "generator = TestsetGenerator.from_langchain(\n",
    "    generator_llm,\n",
    "    critic_llm,\n",
    "    embeddings\n",
    ")\n",
    "\n",
    "# Call the generator\n",
    "testset = generator.generate_with_langchain_docs(\n",
    "          data_transformed, \n",
    "          test_size=20, \n",
    "          distributions={    \n",
    "                    simple: 0.5, \n",
    "          reasoning: 0.25, \n",
    "          multi_context: 0.25}\n",
    "          )"
   ]
  },
  {
   "cell_type": "code",
   "execution_count": 4,
   "id": "159fd70a-6011-4ce1-acc4-04c38eedc92d",
   "metadata": {},
   "outputs": [
    {
     "data": {
      "text/html": [
       "<div>\n",
       "<style scoped>\n",
       "    .dataframe tbody tr th:only-of-type {\n",
       "        vertical-align: middle;\n",
       "    }\n",
       "\n",
       "    .dataframe tbody tr th {\n",
       "        vertical-align: top;\n",
       "    }\n",
       "\n",
       "    .dataframe thead th {\n",
       "        text-align: right;\n",
       "    }\n",
       "</style>\n",
       "<table border=\"1\" class=\"dataframe\">\n",
       "  <thead>\n",
       "    <tr style=\"text-align: right;\">\n",
       "      <th></th>\n",
       "      <th>question</th>\n",
       "      <th>contexts</th>\n",
       "      <th>ground_truth</th>\n",
       "      <th>evolution_type</th>\n",
       "      <th>metadata</th>\n",
       "      <th>episode_done</th>\n",
       "    </tr>\n",
       "  </thead>\n",
       "  <tbody>\n",
       "    <tr>\n",
       "      <th>0</th>\n",
       "      <td>What was the public's reaction to the Official...</td>\n",
       "      <td>[ 2023.\\n  24. **^** \"ICC announce Match Offic...</td>\n",
       "      <td>The public's reaction to the Official Cricket ...</td>\n",
       "      <td>simple</td>\n",
       "      <td>[{'source': 'https://en.wikipedia.org/wiki/202...</td>\n",
       "      <td>True</td>\n",
       "    </tr>\n",
       "    <tr>\n",
       "      <th>1</th>\n",
       "      <td>What was the deadline for teams to finalize th...</td>\n",
       "      <td>[ full members who took\\npart in the knock-out...</td>\n",
       "      <td>Teams were asked to finalize their 15-player s...</td>\n",
       "      <td>simple</td>\n",
       "      <td>[{'source': 'https://en.wikipedia.org/wiki/202...</td>\n",
       "      <td>True</td>\n",
       "    </tr>\n",
       "    <tr>\n",
       "      <th>2</th>\n",
       "      <td>What was the outcome of the match between Indi...</td>\n",
       "      <td>[ **Netherlands**  \\n223 (46.3 overs)  \\n---|-...</td>\n",
       "      <td>India won by 7 wickets against Pakistan on 14 ...</td>\n",
       "      <td>simple</td>\n",
       "      <td>[{'source': 'https://en.wikipedia.org/wiki/202...</td>\n",
       "      <td>True</td>\n",
       "    </tr>\n",
       "    <tr>\n",
       "      <th>3</th>\n",
       "      <td>What events are scheduled for international cr...</td>\n",
       "      <td>[ Qatar\\n  * Ireland v Afghanistan in the UAE\\...</td>\n",
       "      <td>The context does not provide specific events s...</td>\n",
       "      <td>simple</td>\n",
       "      <td>[{'source': 'https://en.wikipedia.org/wiki/202...</td>\n",
       "      <td>True</td>\n",
       "    </tr>\n",
       "    <tr>\n",
       "      <th>4</th>\n",
       "      <td>What was the margin of victory for India in th...</td>\n",
       "      <td>[  \\n388 (49.2 overs) | **v** | **New Zealand*...</td>\n",
       "      <td>India won by 100 runs against England.</td>\n",
       "      <td>simple</td>\n",
       "      <td>[{'source': 'https://en.wikipedia.org/wiki/202...</td>\n",
       "      <td>True</td>\n",
       "    </tr>\n",
       "    <tr>\n",
       "      <th>5</th>\n",
       "      <td>What significant cricket match took place at E...</td>\n",
       "      <td>[  \\n**India won by 243 runs**  \\nEden Gardens...</td>\n",
       "      <td>On 5 November 2023, India secured a significan...</td>\n",
       "      <td>simple</td>\n",
       "      <td>[{'source': 'https://en.wikipedia.org/wiki/202...</td>\n",
       "      <td>True</td>\n",
       "    </tr>\n",
       "    <tr>\n",
       "      <th>6</th>\n",
       "      <td>What was the outcome of the match between Sout...</td>\n",
       "      <td>[ runs**  \\nM. A. Chidambaram Stadium, Chennai...</td>\n",
       "      <td>South Africa won by 229 runs against England o...</td>\n",
       "      <td>simple</td>\n",
       "      <td>[{'source': 'https://en.wikipedia.org/wiki/202...</td>\n",
       "      <td>True</td>\n",
       "    </tr>\n",
       "    <tr>\n",
       "      <th>7</th>\n",
       "      <td>What was the margin of victory for South Afric...</td>\n",
       "      <td>[  \\n388 (49.2 overs) | **v** | **New Zealand*...</td>\n",
       "      <td>South Africa won by 190 runs against New Zealand.</td>\n",
       "      <td>simple</td>\n",
       "      <td>[{'source': 'https://en.wikipedia.org/wiki/202...</td>\n",
       "      <td>True</td>\n",
       "    </tr>\n",
       "    <tr>\n",
       "      <th>8</th>\n",
       "      <td>What significant events marked the start of th...</td>\n",
       "      <td>[\\n---|---|---  \\nMehidy Hasan 74 (89)  \\nReec...</td>\n",
       "      <td>The group stage of the 2023 Cricket World Cup ...</td>\n",
       "      <td>simple</td>\n",
       "      <td>[{'source': 'https://en.wikipedia.org/wiki/202...</td>\n",
       "      <td>True</td>\n",
       "    </tr>\n",
       "    <tr>\n",
       "      <th>9</th>\n",
       "      <td>What was the outcome of the match between Aust...</td>\n",
       "      <td>[  \\n388 (49.2 overs) | **v** | **New Zealand*...</td>\n",
       "      <td>Australia won by 5 runs against New Zealand on...</td>\n",
       "      <td>simple</td>\n",
       "      <td>[{'source': 'https://en.wikipedia.org/wiki/202...</td>\n",
       "      <td>True</td>\n",
       "    </tr>\n",
       "    <tr>\n",
       "      <th>10</th>\n",
       "      <td>What broadcasting features did Disney Star use...</td>\n",
       "      <td>[---|---  \\nQuinton de Kock | Opening batsman ...</td>\n",
       "      <td>The broadcasting features used by Disney Star ...</td>\n",
       "      <td>reasoning</td>\n",
       "      <td>[{'source': 'https://en.wikipedia.org/wiki/202...</td>\n",
       "      <td>True</td>\n",
       "    </tr>\n",
       "    <tr>\n",
       "      <th>11</th>\n",
       "      <td>Which teams besides the host made it to the 20...</td>\n",
       "      <td>[ The top seven teams in the\\ntournament, excl...</td>\n",
       "      <td>The teams that qualified for the 2025 ICC Cham...</td>\n",
       "      <td>reasoning</td>\n",
       "      <td>[{'source': 'https://en.wikipedia.org/wiki/202...</td>\n",
       "      <td>True</td>\n",
       "    </tr>\n",
       "    <tr>\n",
       "      <th>12</th>\n",
       "      <td>What broadcasting features did Disney Star use...</td>\n",
       "      <td>[---|---  \\nQuinton de Kock | Opening batsman ...</td>\n",
       "      <td>The broadcasting features used by Disney Star ...</td>\n",
       "      <td>reasoning</td>\n",
       "      <td>[{'source': 'https://en.wikipedia.org/wiki/202...</td>\n",
       "      <td>True</td>\n",
       "    </tr>\n",
       "    <tr>\n",
       "      <th>13</th>\n",
       "      <td>India's winning margin vs. Pakistan on Oct 14,...</td>\n",
       "      <td>[ **Netherlands**  \\n223 (46.3 overs)  \\n---|-...</td>\n",
       "      <td>India won by 7 wickets against Pakistan on Oct...</td>\n",
       "      <td>reasoning</td>\n",
       "      <td>[{'source': 'https://en.wikipedia.org/wiki/202...</td>\n",
       "      <td>True</td>\n",
       "    </tr>\n",
       "    <tr>\n",
       "      <th>14</th>\n",
       "      <td>What broadcasting features did Disney Star use...</td>\n",
       "      <td>[---|---  \\nQuinton de Kock | Opening batsman ...</td>\n",
       "      <td>The broadcasting features used by Disney Star ...</td>\n",
       "      <td>reasoning</td>\n",
       "      <td>[{'source': 'https://en.wikipedia.org/wiki/202...</td>\n",
       "      <td>True</td>\n",
       "    </tr>\n",
       "    <tr>\n",
       "      <th>15</th>\n",
       "      <td>What impact does the India-Pakistan match resc...</td>\n",
       "      <td>[ 2023.\\n  24. **^** \"ICC announce Match Offic...</td>\n",
       "      <td>The answer to given question is not present in...</td>\n",
       "      <td>multi_context</td>\n",
       "      <td>[{'source': 'https://en.wikipedia.org/wiki/202...</td>\n",
       "      <td>True</td>\n",
       "    </tr>\n",
       "    <tr>\n",
       "      <th>16</th>\n",
       "      <td>Who was the Indian Player of the Tournament in...</td>\n",
       "      <td>[ 2023.\\n  24. **^** \"ICC announce Match Offic...</td>\n",
       "      <td>The answer to given question is not present in...</td>\n",
       "      <td>multi_context</td>\n",
       "      <td>[{'source': 'https://en.wikipedia.org/wiki/202...</td>\n",
       "      <td>True</td>\n",
       "    </tr>\n",
       "    <tr>\n",
       "      <th>17</th>\n",
       "      <td>What was India's win margin vs. S. Africa on N...</td>\n",
       "      <td>[  \\n**India won by 243 runs**  \\nEden Gardens...</td>\n",
       "      <td>India won by 243 runs against South Africa on ...</td>\n",
       "      <td>multi_context</td>\n",
       "      <td>[{'source': 'https://en.wikipedia.org/wiki/202...</td>\n",
       "      <td>True</td>\n",
       "    </tr>\n",
       "    <tr>\n",
       "      <th>18</th>\n",
       "      <td>Who appointed the match officials for the 2023...</td>\n",
       "      <td>[ full members who took\\npart in the knock-out...</td>\n",
       "      <td>The match officials for the 2023 Cricket World...</td>\n",
       "      <td>multi_context</td>\n",
       "      <td>[{'source': 'https://en.wikipedia.org/wiki/202...</td>\n",
       "      <td>True</td>\n",
       "    </tr>\n",
       "    <tr>\n",
       "      <th>19</th>\n",
       "      <td>What promo strategies were used for the 2023 C...</td>\n",
       "      <td>[---|---  \\nQuinton de Kock | Opening batsman ...</td>\n",
       "      <td>The ICC hosted a \"trophy tour\" for 100 days pr...</td>\n",
       "      <td>multi_context</td>\n",
       "      <td>[{'source': 'https://en.wikipedia.org/wiki/202...</td>\n",
       "      <td>True</td>\n",
       "    </tr>\n",
       "  </tbody>\n",
       "</table>\n",
       "</div>"
      ],
      "text/plain": [
       "                                             question  \\\n",
       "0   What was the public's reaction to the Official...   \n",
       "1   What was the deadline for teams to finalize th...   \n",
       "2   What was the outcome of the match between Indi...   \n",
       "3   What events are scheduled for international cr...   \n",
       "4   What was the margin of victory for India in th...   \n",
       "5   What significant cricket match took place at E...   \n",
       "6   What was the outcome of the match between Sout...   \n",
       "7   What was the margin of victory for South Afric...   \n",
       "8   What significant events marked the start of th...   \n",
       "9   What was the outcome of the match between Aust...   \n",
       "10  What broadcasting features did Disney Star use...   \n",
       "11  Which teams besides the host made it to the 20...   \n",
       "12  What broadcasting features did Disney Star use...   \n",
       "13  India's winning margin vs. Pakistan on Oct 14,...   \n",
       "14  What broadcasting features did Disney Star use...   \n",
       "15  What impact does the India-Pakistan match resc...   \n",
       "16  Who was the Indian Player of the Tournament in...   \n",
       "17  What was India's win margin vs. S. Africa on N...   \n",
       "18  Who appointed the match officials for the 2023...   \n",
       "19  What promo strategies were used for the 2023 C...   \n",
       "\n",
       "                                             contexts  \\\n",
       "0   [ 2023.\\n  24. **^** \"ICC announce Match Offic...   \n",
       "1   [ full members who took\\npart in the knock-out...   \n",
       "2   [ **Netherlands**  \\n223 (46.3 overs)  \\n---|-...   \n",
       "3   [ Qatar\\n  * Ireland v Afghanistan in the UAE\\...   \n",
       "4   [  \\n388 (49.2 overs) | **v** | **New Zealand*...   \n",
       "5   [  \\n**India won by 243 runs**  \\nEden Gardens...   \n",
       "6   [ runs**  \\nM. A. Chidambaram Stadium, Chennai...   \n",
       "7   [  \\n388 (49.2 overs) | **v** | **New Zealand*...   \n",
       "8   [\\n---|---|---  \\nMehidy Hasan 74 (89)  \\nReec...   \n",
       "9   [  \\n388 (49.2 overs) | **v** | **New Zealand*...   \n",
       "10  [---|---  \\nQuinton de Kock | Opening batsman ...   \n",
       "11  [ The top seven teams in the\\ntournament, excl...   \n",
       "12  [---|---  \\nQuinton de Kock | Opening batsman ...   \n",
       "13  [ **Netherlands**  \\n223 (46.3 overs)  \\n---|-...   \n",
       "14  [---|---  \\nQuinton de Kock | Opening batsman ...   \n",
       "15  [ 2023.\\n  24. **^** \"ICC announce Match Offic...   \n",
       "16  [ 2023.\\n  24. **^** \"ICC announce Match Offic...   \n",
       "17  [  \\n**India won by 243 runs**  \\nEden Gardens...   \n",
       "18  [ full members who took\\npart in the knock-out...   \n",
       "19  [---|---  \\nQuinton de Kock | Opening batsman ...   \n",
       "\n",
       "                                         ground_truth evolution_type  \\\n",
       "0   The public's reaction to the Official Cricket ...         simple   \n",
       "1   Teams were asked to finalize their 15-player s...         simple   \n",
       "2   India won by 7 wickets against Pakistan on 14 ...         simple   \n",
       "3   The context does not provide specific events s...         simple   \n",
       "4              India won by 100 runs against England.         simple   \n",
       "5   On 5 November 2023, India secured a significan...         simple   \n",
       "6   South Africa won by 229 runs against England o...         simple   \n",
       "7   South Africa won by 190 runs against New Zealand.         simple   \n",
       "8   The group stage of the 2023 Cricket World Cup ...         simple   \n",
       "9   Australia won by 5 runs against New Zealand on...         simple   \n",
       "10  The broadcasting features used by Disney Star ...      reasoning   \n",
       "11  The teams that qualified for the 2025 ICC Cham...      reasoning   \n",
       "12  The broadcasting features used by Disney Star ...      reasoning   \n",
       "13  India won by 7 wickets against Pakistan on Oct...      reasoning   \n",
       "14  The broadcasting features used by Disney Star ...      reasoning   \n",
       "15  The answer to given question is not present in...  multi_context   \n",
       "16  The answer to given question is not present in...  multi_context   \n",
       "17  India won by 243 runs against South Africa on ...  multi_context   \n",
       "18  The match officials for the 2023 Cricket World...  multi_context   \n",
       "19  The ICC hosted a \"trophy tour\" for 100 days pr...  multi_context   \n",
       "\n",
       "                                             metadata  episode_done  \n",
       "0   [{'source': 'https://en.wikipedia.org/wiki/202...          True  \n",
       "1   [{'source': 'https://en.wikipedia.org/wiki/202...          True  \n",
       "2   [{'source': 'https://en.wikipedia.org/wiki/202...          True  \n",
       "3   [{'source': 'https://en.wikipedia.org/wiki/202...          True  \n",
       "4   [{'source': 'https://en.wikipedia.org/wiki/202...          True  \n",
       "5   [{'source': 'https://en.wikipedia.org/wiki/202...          True  \n",
       "6   [{'source': 'https://en.wikipedia.org/wiki/202...          True  \n",
       "7   [{'source': 'https://en.wikipedia.org/wiki/202...          True  \n",
       "8   [{'source': 'https://en.wikipedia.org/wiki/202...          True  \n",
       "9   [{'source': 'https://en.wikipedia.org/wiki/202...          True  \n",
       "10  [{'source': 'https://en.wikipedia.org/wiki/202...          True  \n",
       "11  [{'source': 'https://en.wikipedia.org/wiki/202...          True  \n",
       "12  [{'source': 'https://en.wikipedia.org/wiki/202...          True  \n",
       "13  [{'source': 'https://en.wikipedia.org/wiki/202...          True  \n",
       "14  [{'source': 'https://en.wikipedia.org/wiki/202...          True  \n",
       "15  [{'source': 'https://en.wikipedia.org/wiki/202...          True  \n",
       "16  [{'source': 'https://en.wikipedia.org/wiki/202...          True  \n",
       "17  [{'source': 'https://en.wikipedia.org/wiki/202...          True  \n",
       "18  [{'source': 'https://en.wikipedia.org/wiki/202...          True  \n",
       "19  [{'source': 'https://en.wikipedia.org/wiki/202...          True  "
      ]
     },
     "execution_count": 4,
     "metadata": {},
     "output_type": "execute_result"
    }
   ],
   "source": [
    "testset.to_pandas()"
   ]
  },
  {
   "cell_type": "markdown",
   "id": "4e691339-4510-41f6-943d-5d1224672df8",
   "metadata": {},
   "source": [
    "# Recreating RAG pipeline"
   ]
  },
  {
   "cell_type": "markdown",
   "id": "e837ac68-fe7f-41b3-9065-c3d09df072b6",
   "metadata": {},
   "source": [
    "#### Indexing and storage"
   ]
  },
  {
   "cell_type": "code",
   "execution_count": 6,
   "id": "68317d53-463b-4598-ba83-35ae0c72508f",
   "metadata": {},
   "outputs": [
    {
     "name": "stdout",
     "output_type": "stream",
     "text": [
      "The number of chunks created : 65\n"
     ]
    }
   ],
   "source": [
    "\n",
    "#import libraries\n",
    "from langchain_text_splitters import CharacterTextSplitter\n",
    "#Set the CharacterTextSplitter parameters\n",
    "text_splitter = CharacterTextSplitter(\n",
    "    separator=\"\\n\",    #The character that should be used to split\n",
    "    chunk_size=1000,   #Number of characters in each chunk\n",
    "    chunk_overlap=200, #Number of overlapping characters between chunks\n",
    ")\n",
    "\n",
    "#Create Chunks\n",
    "chunks=text_splitter.create_documents([data_transformed[0].page_content])\n",
    "\n",
    "#Show the number of chunks created\n",
    "print(f\"The number of chunks created : {len(chunks)}\")\n"
   ]
  },
  {
   "cell_type": "code",
   "execution_count": 9,
   "id": "eb416640-d4aa-4ecd-a7f0-a7d699688303",
   "metadata": {},
   "outputs": [
    {
     "data": {
      "text/plain": [
       "65"
      ]
     },
     "execution_count": 9,
     "metadata": {},
     "output_type": "execute_result"
    }
   ],
   "source": [
    "\n",
    "# Import FAISS class from vectorstore library\n",
    "from langchain_community.vectorstores import FAISS\n",
    "\n",
    "# Import OpenAIEmbeddings from the library\n",
    "from langchain_openai import OpenAIEmbeddings\n",
    "\n",
    "# Chunks from earlier\n",
    "chunks=chunks\n",
    "\n",
    "# Instantiate the embeddings object\n",
    "embeddings=OpenAIEmbeddings(model=\"text-embedding-3-large\")\n",
    "\n",
    "# Create the database\n",
    "db=FAISS.from_documents(chunks,embeddings)\n",
    "\n",
    "# Check the number of chunks that have been indexed\n",
    "db.index.ntotal"
   ]
  },
  {
   "cell_type": "markdown",
   "id": "b2d572e2-cb65-4b08-badf-552bca5793f8",
   "metadata": {},
   "source": [
    "### Retrieval function"
   ]
  },
  {
   "cell_type": "code",
   "execution_count": 11,
   "id": "3f1731f8-9314-4ec8-a1c8-a1a8229614d6",
   "metadata": {},
   "outputs": [],
   "source": [
    "# Import FAISS class from vectorstore library\n",
    "from langchain_community.vectorstores import FAISS\n",
    "\n",
    "# Import OpenAIEmbeddings from the library\n",
    "from langchain_openai import OpenAIEmbeddings\n",
    "\n",
    "def retrieve_context(query, db):\n",
    "    embeddings=OpenAIEmbeddings(model=\"text-embedding-3-large\")\n",
    "\n",
    "    # Load the database stored in the local directory\n",
    "    # db=FAISS.load_local(db_path, embeddings, allow_dangerous_deserialization=True)\n",
    "    db=db\n",
    "\n",
    "    # Ranking the chunks in descending order of similarity\n",
    "    docs = db.similarity_search(query)\n",
    "    # Selecting first chunk as the retrieved information\n",
    "    retrieved_context=docs[0].page_content\n",
    "\n",
    "    return str(retrieved_context)\n"
   ]
  },
  {
   "cell_type": "markdown",
   "id": "2236d348-ab83-4c90-b886-4e9adb8b34ef",
   "metadata": {},
   "source": [
    "#### Augmentation function"
   ]
  },
  {
   "cell_type": "code",
   "execution_count": 12,
   "id": "f6e91602-1f74-4d86-b6a9-8e8c1e205dfe",
   "metadata": {},
   "outputs": [],
   "source": [
    "def create_augmeted(query, db_path):\n",
    "\n",
    "    retrieved_context=retrieve_context(query,db_path)\n",
    "\n",
    "    # Creating the prompt\n",
    "    augmented_prompt=f\"\"\"\n",
    "\n",
    "    Given the context below answer the question.\n",
    "\n",
    "    Question: {query} \n",
    "\n",
    "    Context : {retrieved_context}\n",
    "\n",
    "    Remember to answer only based on the context provided and not from any other source. \n",
    "\n",
    "    If the question cannot be answered based on the provided context, say I don’t know.\n",
    "\n",
    "    \"\"\"\n",
    "\n",
    "    return retrieved_context, str(augmented_prompt)"
   ]
  },
  {
   "cell_type": "markdown",
   "id": "3d57ab8f-e2a7-454f-8356-c13a3362cb8f",
   "metadata": {},
   "source": [
    "#### RAG function"
   ]
  },
  {
   "cell_type": "code",
   "execution_count": 13,
   "id": "0c9194e2-ae6e-488c-ae0a-47810bdf3fcf",
   "metadata": {},
   "outputs": [],
   "source": [
    "# Importing the OpenAI library\n",
    "from openai import OpenAI\n",
    "\n",
    "def create_rag(query, db):\n",
    "\n",
    "    retrieved_context, augmented_prompt=create_augmeted(query,db)\n",
    "\n",
    "    # Instantiate the OpenAI client\n",
    "    client = OpenAI()\n",
    "\n",
    "    # Make the API call passing the augmented prompt to the LLM\n",
    "    response = client.chat.completions.create(\n",
    "    model=\"gpt-4o-mini\",\n",
    "    messages=\t[\n",
    "        {\"role\": \"user\", \"content\": augmented_prompt}\n",
    "  \t\t]\n",
    "    )\n",
    "\n",
    "    # Extract the answer from the response object\n",
    "    answer=response.choices[0].message.content\n",
    "\n",
    "    return retrieved_context, answer"
   ]
  },
  {
   "cell_type": "markdown",
   "id": "bc3c5692-152a-4a75-9319-b7e2038646d2",
   "metadata": {},
   "source": [
    "# Testing the pipeline"
   ]
  },
  {
   "cell_type": "code",
   "execution_count": 14,
   "id": "8768671c-3d7e-4ded-b268-48062cb73412",
   "metadata": {},
   "outputs": [
    {
     "data": {
      "text/plain": [
       "(\"Participants| 10  \\nMatches| 48  \\nAttendance| 1,250,307 (26,048 per match)  \\nPlayer of the series|  Virat Kohli  \\nMost runs|  Virat Kohli (765)  \\nMost wickets|  Mohammed Shami (24)  \\nOfficial website| cricketworldcup.com  \\n<- 2019 England & Wales _South Africa, Zimbabwe and Namibia 2027_ ->  \\n  \\nThe **2023 ICC Men's Cricket World Cup** (also referred to as simply the\\n**2023 Cricket World Cup**) was the 13th edition of the  Cricket World Cup, a\\nquadrennial One Day International (ODI) cricket tournament organized by the\\nInternational Cricket Council (ICC). It was hosted from 5 October to 19\\nNovember 2023 across ten venues in India. This was the fourth World Cup held\\nin India, but the first where India was the sole host.\\nThe tournament was contested by ten national teams, maintaining the same\\nformat used in 2019. After six weeks of round-robin matches, India, South\\nAfrica, Australia, and New Zealand finished as the top four and qualified for\",\n",
       " 'I don’t know.')"
      ]
     },
     "execution_count": 14,
     "metadata": {},
     "output_type": "execute_result"
    }
   ],
   "source": [
    "\n",
    "create_rag(\"Who won the 2023 Cricket World Cup?\", db )"
   ]
  },
  {
   "cell_type": "code",
   "execution_count": 15,
   "id": "689be149-af93-4ab9-a519-1d9e76499960",
   "metadata": {},
   "outputs": [
    {
     "data": {
      "text/plain": [
       "('format used in 2019. After six weeks of round-robin matches, India, South\\nAfrica, Australia, and New Zealand finished as the top four and qualified for\\nthe knockout stage. In the knockout stage, India and Australia beat New\\nZealand and South Africa, respectively, to advance to the final, played on 19\\nNovember at the Narendra Modi Stadium in Ahmedabad. Australia won the final by\\nsix wickets, winning their sixth Cricket World Cup title.\\nVirat Kohli was named the player of the tournament and also scored the most\\nruns, while Mohammed Shami was the leading wicket-taker. A total of 1,250,307\\nspectators attended the matches, the highest number in any Cricket World Cup\\nto date.[1] The tournament final set viewership records in India, drawing 518\\nmillion viewers, with a peak of 57 million streaming viewers.\\n## Background\\nOn 11 December 2017, India was announced by the ICC as hosts of the 2023\\nCricket World Cup; while India had served as a co-host during three previous',\n",
       " 'Virat Kohli was named the player of the tournament and also scored the most runs in the Cup.')"
      ]
     },
     "execution_count": 15,
     "metadata": {},
     "output_type": "execute_result"
    }
   ],
   "source": [
    "create_rag(\"What was Virat Kohli's achievement in the Cup?\", db)"
   ]
  },
  {
   "cell_type": "markdown",
   "id": "25c857b9-b197-4122-8e6b-6b76b941d2ac",
   "metadata": {},
   "source": [
    "# Evaluations"
   ]
  },
  {
   "cell_type": "code",
   "execution_count": 17,
   "id": "7a259a95-e0b1-4b7e-ba93-404565e78859",
   "metadata": {},
   "outputs": [],
   "source": [
    "# Create Lists for Questions and Ground Truths from testset\n",
    "questions_list=testset.to_pandas().question.to_list()\n",
    "gt_list=testset.to_pandas().ground_truth.to_list()\n",
    "\n",
    "answer_list=[]\n",
    "context_list=[]\n",
    "\n",
    "# Iterate through the testset to generate response for questions\n",
    "for record in testset.test_data:\n",
    "    \n",
    "     # Call the RAG function\n",
    "     rag_context, rag_answer=create_rag(record.question,db)\n",
    "     ground_truth=record.ground_truth\n",
    "     answer_list.append(rag_answer)\n",
    "     context_list.append([rag_context])\n",
    "\n",
    "# Create dictionary of question, answer, context and ground truth\n",
    "data_samples={\n",
    "    'question':questions_list,\n",
    "    'answer':answer_list,\n",
    "    'contexts': context_list,\n",
    "    'ground_truth':gt_list\n",
    "}"
   ]
  },
  {
   "cell_type": "markdown",
   "id": "824d57cc-1948-482f-9545-06ad4bd5e40d",
   "metadata": {},
   "source": [
    "For RAGAs, the evaluation set needs to be in the Dataset format. Datasets is a lightweight library from HuggingFace."
   ]
  },
  {
   "cell_type": "code",
   "execution_count": 18,
   "id": "4b7796a0-37c4-42b1-9a96-5e1acd9ca3e1",
   "metadata": {},
   "outputs": [
    {
     "name": "stdout",
     "output_type": "stream",
     "text": [
      "Requirement already satisfied: datasets==2.20.0 in /usr/local/python/3.12.1/lib/python3.12/site-packages (2.20.0)\n",
      "Requirement already satisfied: filelock in /home/codespace/.local/lib/python3.12/site-packages (from datasets==2.20.0) (3.13.1)\n",
      "Requirement already satisfied: numpy>=1.17 in /usr/local/python/3.12.1/lib/python3.12/site-packages (from datasets==2.20.0) (1.26.4)\n",
      "Requirement already satisfied: pyarrow>=15.0.0 in /usr/local/python/3.12.1/lib/python3.12/site-packages (from datasets==2.20.0) (17.0.0)\n",
      "Requirement already satisfied: pyarrow-hotfix in /usr/local/python/3.12.1/lib/python3.12/site-packages (from datasets==2.20.0) (0.6)\n",
      "Requirement already satisfied: dill<0.3.9,>=0.3.0 in /usr/local/python/3.12.1/lib/python3.12/site-packages (from datasets==2.20.0) (0.3.8)\n",
      "Requirement already satisfied: pandas in /home/codespace/.local/lib/python3.12/site-packages (from datasets==2.20.0) (2.2.2)\n",
      "Requirement already satisfied: requests>=2.32.2 in /home/codespace/.local/lib/python3.12/site-packages (from datasets==2.20.0) (2.32.3)\n",
      "Requirement already satisfied: tqdm>=4.66.3 in /usr/local/python/3.12.1/lib/python3.12/site-packages (from datasets==2.20.0) (4.66.4)\n",
      "Requirement already satisfied: xxhash in /usr/local/python/3.12.1/lib/python3.12/site-packages (from datasets==2.20.0) (3.5.0)\n",
      "Requirement already satisfied: multiprocess in /usr/local/python/3.12.1/lib/python3.12/site-packages (from datasets==2.20.0) (0.70.16)\n",
      "Requirement already satisfied: fsspec<=2024.5.0,>=2023.1.0 in /home/codespace/.local/lib/python3.12/site-packages (from fsspec[http]<=2024.5.0,>=2023.1.0->datasets==2.20.0) (2024.2.0)\n",
      "Requirement already satisfied: aiohttp in /usr/local/python/3.12.1/lib/python3.12/site-packages (from datasets==2.20.0) (3.10.5)\n",
      "Requirement already satisfied: huggingface-hub>=0.21.2 in /usr/local/python/3.12.1/lib/python3.12/site-packages (from datasets==2.20.0) (0.24.7)\n",
      "Requirement already satisfied: packaging in /usr/local/python/3.12.1/lib/python3.12/site-packages (from datasets==2.20.0) (23.2)\n",
      "Requirement already satisfied: pyyaml>=5.1 in /home/codespace/.local/lib/python3.12/site-packages (from datasets==2.20.0) (6.0.2)\n",
      "Requirement already satisfied: aiohappyeyeballs>=2.3.0 in /usr/local/python/3.12.1/lib/python3.12/site-packages (from aiohttp->datasets==2.20.0) (2.4.0)\n",
      "Requirement already satisfied: aiosignal>=1.1.2 in /usr/local/python/3.12.1/lib/python3.12/site-packages (from aiohttp->datasets==2.20.0) (1.3.1)\n",
      "Requirement already satisfied: attrs>=17.3.0 in /home/codespace/.local/lib/python3.12/site-packages (from aiohttp->datasets==2.20.0) (24.2.0)\n",
      "Requirement already satisfied: frozenlist>=1.1.1 in /usr/local/python/3.12.1/lib/python3.12/site-packages (from aiohttp->datasets==2.20.0) (1.4.1)\n",
      "Requirement already satisfied: multidict<7.0,>=4.5 in /usr/local/python/3.12.1/lib/python3.12/site-packages (from aiohttp->datasets==2.20.0) (6.1.0)\n",
      "Requirement already satisfied: yarl<2.0,>=1.0 in /usr/local/python/3.12.1/lib/python3.12/site-packages (from aiohttp->datasets==2.20.0) (1.11.1)\n",
      "Requirement already satisfied: typing-extensions>=3.7.4.3 in /usr/local/python/3.12.1/lib/python3.12/site-packages (from huggingface-hub>=0.21.2->datasets==2.20.0) (4.12.2)\n",
      "Requirement already satisfied: charset-normalizer<4,>=2 in /home/codespace/.local/lib/python3.12/site-packages (from requests>=2.32.2->datasets==2.20.0) (3.3.2)\n",
      "Requirement already satisfied: idna<4,>=2.5 in /home/codespace/.local/lib/python3.12/site-packages (from requests>=2.32.2->datasets==2.20.0) (3.7)\n",
      "Requirement already satisfied: urllib3<3,>=1.21.1 in /home/codespace/.local/lib/python3.12/site-packages (from requests>=2.32.2->datasets==2.20.0) (2.2.2)\n",
      "Requirement already satisfied: certifi>=2017.4.17 in /home/codespace/.local/lib/python3.12/site-packages (from requests>=2.32.2->datasets==2.20.0) (2024.7.4)\n",
      "Requirement already satisfied: python-dateutil>=2.8.2 in /home/codespace/.local/lib/python3.12/site-packages (from pandas->datasets==2.20.0) (2.9.0.post0)\n",
      "Requirement already satisfied: pytz>=2020.1 in /home/codespace/.local/lib/python3.12/site-packages (from pandas->datasets==2.20.0) (2024.1)\n",
      "Requirement already satisfied: tzdata>=2022.7 in /home/codespace/.local/lib/python3.12/site-packages (from pandas->datasets==2.20.0) (2024.1)\n",
      "Requirement already satisfied: six>=1.5 in /home/codespace/.local/lib/python3.12/site-packages (from python-dateutil>=2.8.2->pandas->datasets==2.20.0) (1.16.0)\n",
      "Note: you may need to restart the kernel to use updated packages.\n"
     ]
    }
   ],
   "source": [
    "# Install the datasets package\n",
    "%pip install datasets==2.20.0\n",
    "\n",
    "# Import the Datasets library\n",
    "from datasets import Dataset\n",
    "\n",
    "# Create Dataset from the dictionary\n",
    "dataset = Dataset.from_dict(data_samples)\n"
   ]
  },
  {
   "cell_type": "code",
   "execution_count": 21,
   "id": "c2389951-1a7a-4878-aa2c-a97eabb7cdcd",
   "metadata": {},
   "outputs": [
    {
     "data": {
      "text/plain": [
       "{'question': 'What was the outcome of the match between India and Pakistan on 14 October 2023?',\n",
       " 'answer': 'India won the match against Pakistan on 14 October 2023 by 7 wickets.',\n",
       " 'contexts': ['261/3 (41.3 overs)  \\n---|---|---  \\n|  |   \\n**India won by 7 wickets**  \\nMaharashtra Cricket Association Stadium, Pune  \\n---  \\n  \\n20 October 2023  \\nScorecard  \\n---  \\n**Australia **  \\n367/9 (50 overs) | **v** | **Pakistan**  \\n305 (45.3 overs)  \\n---|---|---  \\n|  |   \\n**Australia won by 62 runs**  \\nM. Chinnaswamy Stadium, Bangalore  \\n---  \\n  \\n21 October 2023  \\nScorecard  \\n---  \\n**Netherlands **  \\n262 (49.4 overs) | **v** | **Sri Lanka**  \\n263/5 (48.2 overs)  \\n---|---|---  \\n|  |   \\n**Sri Lanka won by 5 wickets**  \\nBRSABV Ekana Cricket Stadium, Lucknow  \\n---  \\n  \\n21 October 2023  \\nScorecard  \\n---  \\n**South Africa **  \\n399/7 (50 overs) | **v** | **England**  \\n170 (22 overs)  \\n---|---|---  \\n|  |   \\n**South Africa won by 229 runs**  \\nWankhede Stadium, Mumbai  \\n---  \\n  \\n22 October 2023  \\nScorecard  \\n---  \\n**New Zealand **  \\n273 (50 overs) | **v** | **India**  \\n274/6 (48 overs)  \\n---|---|---  \\n|  |   \\n**India won by 4 wickets**  \\nHPCA Stadium, Dharamshala  \\n---  \\n  \\n23 October 2023  \\nScorecard'],\n",
       " 'ground_truth': 'India won by 7 wickets against Pakistan on 14 October 2023.'}"
      ]
     },
     "execution_count": 21,
     "metadata": {},
     "output_type": "execute_result"
    }
   ],
   "source": [
    "dataset[2]"
   ]
  },
  {
   "cell_type": "code",
   "execution_count": 22,
   "id": "995e04ee-fa14-4118-ba49-62d462d41fe4",
   "metadata": {},
   "outputs": [
    {
     "data": {
      "text/plain": [
       "{'question': 'What was the margin of victory for South Africa in their match against New Zealand?',\n",
       " 'answer': 'I don’t know.',\n",
       " 'contexts': ['* The match was reduced to 37 overs per side due to rain.\\n  * England were set a revised target of 197 runs from 37 overs due to rain. \\n2 October 2023  \\n14:00  \\nScorecard  \\n---  \\n**New Zealand **  \\n321/6 (50 overs) | **v** | **South Africa**  \\n211/4 (37 overs)  \\n---|---|---  \\nDevon Conway 78 (73)  \\nLungi Ngidi 3/33 (7 overs) |  | Quinton de Kock 84* (89)   \\nTrent Boult 2/20 (5 overs)  \\n**New Zealand won by 7 runs (DLS method)**  \\nGreenfield International Stadium, Thiruvananthapuram  \\nUmpires: Chris Gaffaney (NZ) and Richard Kettleborough (Eng)  \\n---  \\n  \\n  * New Zealand won the toss and elected to bat.\\n  * South Africa innings curtailed at 37 overs due to rain; DLS par score was 219. \\n3 October 2023  \\n14:00  \\nScorecard  \\n---  \\n**Sri Lanka **  \\n294 (46.2 overs) | **v** | **Afghanistan**  \\n261/4 (38.1 overs)  \\n---|---|---  \\nKusal Mendis 158 (87)  \\nMohammad Nabi 4/44 (8 overs) |  | Rahmanullah Gurbaz 119 (92)   \\nKasun Rajitha 1/18 (7 overs)'],\n",
       " 'ground_truth': 'South Africa won by 190 runs against New Zealand.'}"
      ]
     },
     "execution_count": 22,
     "metadata": {},
     "output_type": "execute_result"
    }
   ],
   "source": [
    "dataset[7]"
   ]
  },
  {
   "cell_type": "markdown",
   "id": "f02d7d49-a146-4b1e-930b-5414b2c90eae",
   "metadata": {},
   "source": [
    "## Calculating evaluation metrics"
   ]
  },
  {
   "cell_type": "markdown",
   "id": "dc3dcb1b-a7e5-4506-96ff-2ce38cc8b761",
   "metadata": {},
   "source": [
    "We will use RAGAS metrics which will compare the answers to the ground truths."
   ]
  },
  {
   "cell_type": "code",
   "execution_count": 19,
   "id": "133c259e-4dc1-44e5-8894-16f4e7723d4d",
   "metadata": {},
   "outputs": [
    {
     "data": {
      "application/vnd.jupyter.widget-view+json": {
       "model_id": "4aa9e08508f34070bcab82019cb8a55d",
       "version_major": 2,
       "version_minor": 0
      },
      "text/plain": [
       "Evaluating:   0%|          | 0/240 [00:00<?, ?it/s]"
      ]
     },
     "metadata": {},
     "output_type": "display_data"
    }
   ],
   "source": [
    "#Import all the libraries\n",
    "from ragas import evaluate\n",
    "\n",
    "from ragas.metrics import (\n",
    "    answer_relevancy,\n",
    "    faithfulness,\n",
    "    context_recall,\n",
    "    context_precision,\n",
    "    context_entity_recall,\n",
    "    answer_similarity,\n",
    "    answer_correctness\n",
    ")\n",
    "\n",
    "from ragas.metrics.critique import (\n",
    "    harmfulness, \n",
    "    maliciousness, \n",
    "    coherence, \n",
    "    correctness, \n",
    "    conciseness\n",
    ")\n",
    "\n",
    "# Calculate the metrics for the dataset \n",
    "\n",
    "result = evaluate(\n",
    "    dataset,\n",
    "    metrics=[\n",
    "        context_precision,\n",
    "        faithfulness,\n",
    "        answer_relevancy,\n",
    "        context_recall,\n",
    "        context_entity_recall,\n",
    "        answer_similarity,\n",
    "        answer_correctness,\n",
    "        harmfulness, \n",
    "        maliciousness, \n",
    "        coherence, \n",
    "        correctness, \n",
    "        conciseness\n",
    "\n",
    "    ],\n",
    ")\n"
   ]
  },
  {
   "cell_type": "code",
   "execution_count": 20,
   "id": "f43c52b1-e2fb-4123-a26a-2a0e52dc5b1a",
   "metadata": {},
   "outputs": [
    {
     "name": "stdout",
     "output_type": "stream",
     "text": [
      "{\n",
      "    \"context_precision\": 0.749999999925,\n",
      "    \"faithfulness\": 0.48583333333333334,\n",
      "    \"answer_relevancy\": 0.6636592815353355,\n",
      "    \"context_recall\": 0.6083333333333333,\n",
      "    \"context_entity_recall\": 0.3728388270962975,\n",
      "    \"answer_similarity\": 0.8874326228624116,\n",
      "    \"answer_correctness\": 0.46588081819686256,\n",
      "    \"harmfulness\": 0.0,\n",
      "    \"maliciousness\": 0.05,\n",
      "    \"coherence\": 0.7,\n",
      "    \"correctness\": 0.7,\n",
      "    \"conciseness\": 0.75\n",
      "}\n"
     ]
    }
   ],
   "source": [
    "import json\n",
    "\n",
    "print(json.dumps(result, indent=4))"
   ]
  },
  {
   "cell_type": "code",
   "execution_count": null,
   "id": "9bcf6873-7164-4c4c-9ef8-ac253cc6afe7",
   "metadata": {},
   "outputs": [],
   "source": []
  }
 ],
 "metadata": {
  "kernelspec": {
   "display_name": "Python 3 (ipykernel)",
   "language": "python",
   "name": "python3"
  },
  "language_info": {
   "codemirror_mode": {
    "name": "ipython",
    "version": 3
   },
   "file_extension": ".py",
   "mimetype": "text/x-python",
   "name": "python",
   "nbconvert_exporter": "python",
   "pygments_lexer": "ipython3",
   "version": "3.12.1"
  }
 },
 "nbformat": 4,
 "nbformat_minor": 5
}
