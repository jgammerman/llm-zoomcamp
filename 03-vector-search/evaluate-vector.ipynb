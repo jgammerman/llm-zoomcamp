{
 "cells": [
  {
   "cell_type": "markdown",
   "id": "8cfe425f-cc76-4be3-9db2-93c7fadf5aae",
   "metadata": {},
   "source": [
    "\n",
    "### Purpose of notebook:\n",
    "The notebook sets up and evaluates a vector-based semantic search system using **Elasticsearch** for a Q&A dataset related to various courses. It explores different methods for creating vector embeddings for document retrieval and assesses the effectiveness of each approach.\n",
    "\n",
    "### Main Steps:\n",
    "\n",
    "- **Data Loading**: \n",
    "  - Loads course-related questions and answers from a JSON file to use in semantic search.\n",
    "\n",
    "- **Model Setup**: \n",
    "  - Installs and initializes a `SentenceTransformer` model (`multi-qa-MiniLM-L6-cos-v1`) that generates vector embeddings representing the semantic meaning of text.\n",
    "\n",
    "- **Elasticsearch Index Creation**: \n",
    "  - Defines an Elasticsearch index with three distinct **dense vector fields** to store embeddings:\n",
    "    - **`question_vector`**: Embedding generated solely from the question text in each document.\n",
    "    - **`text_vector`**: Embedding generated solely from the main text content of each document.\n",
    "    - **`question_text_vector`**: Combined embedding generated from concatenating the question and main text, capturing the document’s overall meaning.\n",
    "  - Each vector field supports **cosine similarity** for efficient similarity-based searches.\n",
    "\n",
    "- **Vector Encoding**: \n",
    "  - For each document in the dataset:\n",
    "    - The model encodes **`question`**, **`text`**, and **`question + text`** separately, generating embeddings for each respective vector field in the Elasticsearch index.\n",
    "\n",
    "- **K-Nearest Neighbors (KNN) Search Functions**:\n",
    "  - Implements separate KNN search functions using each vector embedding to retrieve the most similar documents based on different aspects of the text.\n",
    "    - **Single Field Searches**:\n",
    "      - **`text_vector_knn`**: Searches only on the `text_vector` field, comparing embeddings of the main content.\n",
    "      - **`question_text_vector_knn`**: Searches only on the `question_text_vector` field, capturing combined question and text meaning.\n",
    "    - **Combined Search**:\n",
    "      - **`elastic_search_knn_combined`**: Uses a custom scoring script in Elasticsearch to aggregate similarity scores across `question_vector`, `text_vector`, and `question_text_vector`. This approach integrates information from the question, text, and combined context, potentially enhancing retrieval accuracy.\n",
    "\n",
    "- **Evaluation Functions**:\n",
    "  - Evaluates each search approach using:\n",
    "    - **Hit Rate**: Measures the percentage of queries where at least one relevant document is retrieved.\n",
    "    - **Mean Reciprocal Rank (MRR)**: Evaluates how early the first relevant document appears in the search results, with higher scores indicating more accurate and immediate relevance.\n",
    "\n",
    "### Main Conclusions:\n",
    "\n",
    "- **Effectiveness of Different Embeddings**:\n",
    "  - **Single Embeddings**: Using `question_vector` or `text_vector` alone provides search results that focus on a specific aspect of the document (question vs. main text), potentially missing some context when the document's meaning relies on both.\n",
    "  - **Combined Embedding (`question_text_vector`)**: Including both question and text content creates a broader context, which can improve accuracy by capturing the document's overall meaning.\n",
    "  \n",
    "- **Combined Vector Scoring**:\n",
    "  - The **combined search function** (`elastic_search_knn_combined`) integrates scores from all three embeddings, allowing the search to consider multiple aspects of document relevance (question meaning, content context, and combined). This approach can improve performance by leveraging the strengths of each vector type, particularly in complex queries that benefit from a holistic view of the document.\n",
    "\n",
    "- **Performance Insights**:\n",
    "  - The notebook provides insights into the retrieval accuracy for each vector search approach, highlighting that a combined approach typically performs better for semantic search, as measured by higher Hit Rate and MRR.\n"
   ]
  },
  {
   "cell_type": "code",
   "execution_count": 34,
   "id": "0eb002e7-0746-4f03-af37-5a72b78c3867",
   "metadata": {},
   "outputs": [],
   "source": [
    "import json\n",
    "\n",
    "with open('documents-with-ids.json', 'rt') as f_in:\n",
    "    documents = json.load(f_in)"
   ]
  },
  {
   "cell_type": "code",
   "execution_count": 2,
   "id": "67a098ff-66bb-40b8-89b4-28a52e935a17",
   "metadata": {},
   "outputs": [
    {
     "name": "stderr",
     "output_type": "stream",
     "text": [
      "/usr/local/python/3.12.1/lib/python3.12/site-packages/sentence_transformers/cross_encoder/CrossEncoder.py:13: TqdmExperimentalWarning: Using `tqdm.autonotebook.tqdm` in notebook mode. Use `tqdm.tqdm` instead to force console mode (e.g. in jupyter console)\n",
      "  from tqdm.autonotebook import tqdm, trange\n"
     ]
    }
   ],
   "source": [
    "# Install Sentence Transformers library to work with pre-trained transformer models\n",
    "# !pip install sentence_transformers\n",
    "from sentence_transformers import SentenceTransformer"
   ]
  },
  {
   "cell_type": "code",
   "execution_count": 3,
   "id": "8b781cd8-8a22-4896-98d6-e89ff050d485",
   "metadata": {},
   "outputs": [],
   "source": [
    "# Load a pre-trained sentence transformer model designed for semantic similarity and QA tasks\n",
    "model_name = 'multi-qa-MiniLM-L6-cos-v1'\n",
    "model = SentenceTransformer(model_name)"
   ]
  },
  {
   "cell_type": "code",
   "execution_count": 4,
   "id": "638382f8-fd53-4157-b966-aacfd34f5207",
   "metadata": {},
   "outputs": [],
   "source": [
    "# Encode a query sentence into a dense vector representation (this vector will be used for search)\n",
    "v = model.encode('I just discovered the course. Can I still join?')"
   ]
  },
  {
   "cell_type": "code",
   "execution_count": 5,
   "id": "440fda16-0cab-40de-8fc1-cd516859eeed",
   "metadata": {},
   "outputs": [
    {
     "data": {
      "text/plain": [
       "384"
      ]
     },
     "execution_count": 5,
     "metadata": {},
     "output_type": "execute_result"
    }
   ],
   "source": [
    "len(v)"
   ]
  },
  {
   "cell_type": "code",
   "execution_count": 11,
   "id": "630ca60e-c440-47c4-91bc-bb71fe992944",
   "metadata": {},
   "outputs": [
    {
     "data": {
      "text/plain": [
       "ObjectApiResponse({'acknowledged': True, 'shards_acknowledged': True, 'index': 'course-questions'})"
      ]
     },
     "execution_count": 11,
     "metadata": {},
     "output_type": "execute_result"
    }
   ],
   "source": [
    "# Import Elasticsearch Python client to interact with the Elasticsearch server\n",
    "from elasticsearch import Elasticsearch\n",
    "\n",
    "# Create an Elasticsearch client that connects to a locally running Elasticsearch instance\n",
    "es_client = Elasticsearch('http://localhost:9200') \n",
    "\n",
    "# Define the settings and mappings for the Elasticsearch index\n",
    "index_settings = {\n",
    "    \"settings\": {\n",
    "        \"number_of_shards\": 1,  # Number of primary shards for the index\n",
    "        \"number_of_replicas\": 0  # No replicas (for this example, faster writes)\n",
    "    },\n",
    "    \"mappings\": {\n",
    "        \"properties\": {\n",
    "            # Define field types in Elasticsearch for course-related data\n",
    "            \"text\": {\"type\": \"text\"},  # Text data (course content)\n",
    "            \"section\": {\"type\": \"text\"},  # Section of the course\n",
    "            \"question\": {\"type\": \"text\"},  # Question related to the course\n",
    "            \"course\": {\"type\": \"keyword\"},  # Course name, stored as a keyword\n",
    "            \"id\": {\"type\": \"keyword\"},  # Unique identifier for each document\n",
    "            \"question_vector\": {\n",
    "                # Vector representing the encoded question (used for semantic search)\n",
    "                \"type\": \"dense_vector\",\n",
    "                \"dims\": 384,  # Dimension of the vector from the SentenceTransformer model\n",
    "                \"index\": True,  # Index this vector for similarity search\n",
    "                \"similarity\": \"cosine\"  # Use cosine similarity for matching vectors\n",
    "            },\n",
    "            \"text_vector\": {\n",
    "                # Vector for the course text content\n",
    "                \"type\": \"dense_vector\",\n",
    "                \"dims\": 384,\n",
    "                \"index\": True,\n",
    "                \"similarity\": \"cosine\"\n",
    "            },\n",
    "            \"question_text_vector\": {\n",
    "                # Combined vector for both question and text (question + text)\n",
    "                \"type\": \"dense_vector\",\n",
    "                \"dims\": 384,\n",
    "                \"index\": True,\n",
    "                \"similarity\": \"cosine\"\n",
    "            },\n",
    "        }\n",
    "    }\n",
    "}\n",
    "\n",
    "# The name of the index in Elasticsearch where the documents will be stored\n",
    "index_name = \"course-questions\"\n",
    "\n",
    "# Delete the index if it already exists to start fresh\n",
    "es_client.indices.delete(index=index_name, ignore_unavailable=True)\n",
    "\n",
    "# Create a new index with the specified settings and mappings\n",
    "es_client.indices.create(index=index_name, body=index_settings)"
   ]
  },
  {
   "cell_type": "code",
   "execution_count": 12,
   "id": "40ffd157-2bf0-407c-8f8b-69259b5b88d3",
   "metadata": {},
   "outputs": [
    {
     "data": {
      "application/vnd.jupyter.widget-view+json": {
       "model_id": "eac1dee646814e75aabcd82f4902faf9",
       "version_major": 2,
       "version_minor": 0
      },
      "text/plain": [
       "  0%|          | 0/948 [00:00<?, ?it/s]"
      ]
     },
     "metadata": {},
     "output_type": "display_data"
    }
   ],
   "source": [
    "from tqdm.auto import tqdm\n",
    "\n",
    "# Loop over each document in the loaded dataset\n",
    "for doc in tqdm(documents):\n",
    "    question = doc['question']  # Extract the question part of the document\n",
    "    text = doc['text']  # Extract the text part of the document\n",
    "    qt = question + ' ' + text  # Combine the question and text for joint encoding\n",
    "\n",
    "    # Encode the question, text, and combined question+text into vectors\n",
    "    doc['question_vector'] = model.encode(question)\n",
    "    doc['text_vector'] = model.encode(text)\n",
    "    doc['question_text_vector'] = model.encode(qt)"
   ]
  },
  {
   "cell_type": "code",
   "execution_count": 13,
   "id": "91ea1b0a-e851-4e59-b78c-d3ce53581201",
   "metadata": {},
   "outputs": [
    {
     "data": {
      "application/vnd.jupyter.widget-view+json": {
       "model_id": "92ef3b74e99a4a96bf6e89b5a695c5e4",
       "version_major": 2,
       "version_minor": 0
      },
      "text/plain": [
       "  0%|          | 0/948 [00:00<?, ?it/s]"
      ]
     },
     "metadata": {},
     "output_type": "display_data"
    }
   ],
   "source": [
    "# Index (store) each document with its vectors in the Elasticsearch index\n",
    "for doc in tqdm(documents):\n",
    "    es_client.index(index=index_name, document=doc)\n"
   ]
  },
  {
   "cell_type": "code",
   "execution_count": 14,
   "id": "6d8c92ff-3f6c-4165-8a83-10a76469a45d",
   "metadata": {},
   "outputs": [],
   "source": [
    "# Define a new query to search for in the documents\n",
    "query = 'I just discovered the course. Can I still join it?'\n",
    "\n",
    "# Encode the query into a dense vector representation using the same model\n",
    "v_q = model.encode(query)"
   ]
  },
  {
   "cell_type": "code",
   "execution_count": 15,
   "id": "9ba2c28e-28ec-4fb0-8223-924f8f1833fc",
   "metadata": {},
   "outputs": [],
   "source": [
    "def elastic_search_knn(field, vector, course):\n",
    "    \"\"\"This function performs a k-nearest neighbors (KNN) search in Elasticsearch, using a pre-encoded vector to find similar documents.\"\"\"\n",
    "    knn = {\n",
    "        \"field\": field,  # The field in Elasticsearch where the dense vector is stored\n",
    "        \"query_vector\": vector,  # The vector we are using to search for similar vectors\n",
    "        \"k\": 5,  # We want the 5 nearest neighbors (top 5 results)\n",
    "        \"num_candidates\": 10000,  # Elasticsearch will scan up to 10,000 candidates to find the top k results\n",
    "        \"filter\": {\n",
    "            \"term\": {\n",
    "                \"course\": course  # A filter to only search within a specific course\n",
    "            }\n",
    "        }\n",
    "    }\n",
    "\n",
    "    search_query = {\n",
    "        \"knn\": knn,  # The actual KNN query to Elasticsearch\n",
    "        \"_source\": [\"text\", \"section\", \"question\", \"course\", \"id\"]  # Fields we want to return from the search results\n",
    "    }\n",
    "\n",
    "    es_results = es_client.search(\n",
    "        index=index_name,  # The name of the Elasticsearch index to search in\n",
    "        body=search_query  # The query body that defines the KNN search and filters\n",
    "    )\n",
    "    \n",
    "    result_docs = []\n",
    "    \n",
    "    # Loop over the search results and extract the source fields (the document data)\n",
    "    for hit in es_results['hits']['hits']:\n",
    "        result_docs.append(hit['_source'])\n",
    "\n",
    "    return result_docs  # Return the list of matched documents\n"
   ]
  },
  {
   "cell_type": "code",
   "execution_count": 16,
   "id": "4f193357-10ff-4e0e-aa24-0d0b14cf8590",
   "metadata": {},
   "outputs": [],
   "source": [
    "def question_vector_knn(q):\n",
    "    \"\"\"This function takes a dictionary containing a question and course, encodes the question into a vector, \n",
    "    and then uses elastic_search_knn() to find similar questions in the index.\"\"\"\n",
    "    question = q['question']  # Extract the question text\n",
    "    course = q['course']  # Extract the course name\n",
    "\n",
    "    v_q = model.encode(question)  # Encode the question into a dense vector using the SentenceTransformer model\n",
    "\n",
    "    return elastic_search_knn('question_vector', v_q, course)  # Perform KNN search using the vector and course filter\n"
   ]
  },
  {
   "cell_type": "markdown",
   "id": "88ad705a-b98c-4047-bd28-6fcf9fa69109",
   "metadata": {},
   "source": [
    "### Load ground truth data"
   ]
  },
  {
   "cell_type": "code",
   "execution_count": 17,
   "id": "10cb01fe-b18e-48a7-bf75-f0e2853e9cef",
   "metadata": {},
   "outputs": [
    {
     "data": {
      "text/plain": [
       "{'question': 'When does the course begin?',\n",
       " 'course': 'data-engineering-zoomcamp',\n",
       " 'document': 'c02e79ef'}"
      ]
     },
     "execution_count": 17,
     "metadata": {},
     "output_type": "execute_result"
    }
   ],
   "source": [
    "import pandas as pd\n",
    "df_ground_truth = pd.read_csv('ground-truth-data.csv')  # Load the ground truth data from a CSV file\n",
    "ground_truth = df_ground_truth.to_dict(orient='records')  # Convert the DataFrame into a list of dictionaries (records)\n",
    "ground_truth[0]  # Display the first record from the ground truth data\n"
   ]
  },
  {
   "cell_type": "markdown",
   "id": "fffc687b-f7c4-484c-b345-14510fe8235c",
   "metadata": {},
   "source": [
    "#### The following functions This code evaluates the performance of a search function in retrieving relevant documents by calculating Hit Rate and Mean Reciprocal Rank (MRR), two commonly used metrics in information retrieval."
   ]
  },
  {
   "cell_type": "code",
   "execution_count": 18,
   "id": "6de42453-a71f-4e8c-a8ea-99265506f437",
   "metadata": {},
   "outputs": [],
   "source": [
    "# Function to calculate Hit Rate\n",
    "def hit_rate(relevance_total):\n",
    "    cnt = 0\n",
    "\n",
    "    # Count the number of queries where at least one relevant document is retrieved\n",
    "    for line in relevance_total:\n",
    "        if True in line:\n",
    "            cnt = cnt + 1\n",
    "\n",
    "    # Calculate the hit rate by dividing relevant hits by the total number of queries\n",
    "    return cnt / len(relevance_total)\n"
   ]
  },
  {
   "cell_type": "code",
   "execution_count": 19,
   "id": "d62c7b11-0a28-4b37-acbb-715cae2695a0",
   "metadata": {},
   "outputs": [],
   "source": [
    "# Function to calculate Mean Reciprocal Rank (MRR)\n",
    "def mrr(relevance_total):\n",
    "    total_score = 0.0\n",
    "\n",
    "    # Iterate over each query's relevance list\n",
    "    for line in relevance_total:\n",
    "        # Look for the first relevant document and calculate its reciprocal rank\n",
    "        for rank in range(len(line)):\n",
    "            if line[rank] == True:\n",
    "                total_score = total_score + 1 / (rank + 1)  # Reciprocal rank\n",
    "                break  # Stop after finding the first relevant document\n",
    "\n",
    "    # Return the average of the reciprocal ranks across all queries\n",
    "    return total_score / len(relevance_total)\n"
   ]
  },
  {
   "cell_type": "code",
   "execution_count": 20,
   "id": "4378b31c-6419-4e59-89c5-7c61f543ad68",
   "metadata": {},
   "outputs": [
    {
     "data": {
      "application/vnd.jupyter.widget-view+json": {
       "model_id": "b8e3c948f4ce480f8dab4a5d4972a7bc",
       "version_major": 2,
       "version_minor": 0
      },
      "text/plain": [
       "  0%|          | 0/4631 [00:00<?, ?it/s]"
      ]
     },
     "metadata": {},
     "output_type": "display_data"
    },
    {
     "data": {
      "text/plain": [
       "{'hit_rate': 0.7903260634852084, 'mrr': 0.6793709062117617}"
      ]
     },
     "execution_count": 20,
     "metadata": {},
     "output_type": "execute_result"
    }
   ],
   "source": [
    "# Function to evaluate a search function's performance using Hit Rate and MRR\n",
    "def evaluate(ground_truth, search_function):\n",
    "    relevance_total = []\n",
    "\n",
    "    # Loop over each query in the ground truth data\n",
    "    for q in tqdm(ground_truth):\n",
    "        doc_id = q['document']  # Expected document ID for this query\n",
    "        results = search_function(q)  # Run the search function on the query\n",
    "        # Check if the document IDs in the results match the expected document ID\n",
    "        relevance = [d['id'] == doc_id for d in results]\n",
    "        relevance_total.append(relevance)  # Add the relevance list for this query\n",
    "\n",
    "    # Return a dictionary containing Hit Rate and MRR\n",
    "    return {\n",
    "        'hit_rate': hit_rate(relevance_total),\n",
    "        'mrr': mrr(relevance_total),\n",
    "    }\n",
    "\n",
    "# Run the evaluation using ground truth data and the question_vector_knn search function\n",
    "evaluate(ground_truth, question_vector_knn)\n"
   ]
  },
  {
   "cell_type": "markdown",
   "id": "54d6706f-cf92-4d58-9ac2-02643dea046a",
   "metadata": {},
   "source": [
    "ES text only: 0.7395720769397017, 0.6032418413658963"
   ]
  },
  {
   "cell_type": "code",
   "execution_count": 25,
   "id": "f0ebfd1f-960c-416d-a1f4-3083ccfa1ff9",
   "metadata": {},
   "outputs": [],
   "source": [
    "# This function performs a k-nearest neighbors (KNN) search using the text_vector field in Elasticsearch.\n",
    "# It searches for similar documents using the text_vector field, which represents vector embeddings of the main text content in each document.\n",
    "def text_vector_knn(q):\n",
    "    question = q['question']  # Extract the question text from the query\n",
    "    course = q['course']  # Extract the course name from the query\n",
    "\n",
    "    v_q = model.encode(question)  # Encode the question text into a dense vector\n",
    "\n",
    "    # Perform KNN search using the 'text_vector' field with the encoded query vector\n",
    "    return elastic_search_knn('text_vector', v_q, course)"
   ]
  },
  {
   "cell_type": "code",
   "execution_count": 23,
   "id": "6dbf2a99-fd57-436f-8ced-e51ecccf0adf",
   "metadata": {},
   "outputs": [],
   "source": [
    "# This function performs a KNN search using the question_text_vector field in Elasticsearch.\n",
    "# This function searches for similar documents using the question_text_vector field, which combines the question and text content into a single vector for each document.\n",
    "def question_text_vector_knn(q):\n",
    "    question = q['question']\n",
    "    course = q['course']\n",
    "\n",
    "    v_q = model.encode(question)\n",
    "\n",
    "    return elastic_search_knn('question_text_vector', v_q, course)\n"
   ]
  },
  {
   "cell_type": "code",
   "execution_count": 26,
   "id": "0a7d52b5-974d-4ba9-bb21-575dac5ff4d6",
   "metadata": {},
   "outputs": [],
   "source": [
    "#This function performs a KNN search by combining multiple vector fields using a scripted similarity score in Elasticsearch. \n",
    "# It considers question_vector, text_vector, and question_text_vector to create a more comprehensive similarity score.\n",
    "def elastic_search_knn_combined(vector, course):\n",
    "    search_query = {\n",
    "        \"size\": 5,  # Retrieve the top 5 results\n",
    "        \"query\": {\n",
    "            \"bool\": {\n",
    "                \"must\": [\n",
    "                    {\n",
    "                        \"script_score\": {\n",
    "                            \"query\": {\n",
    "                                \"term\": {\n",
    "                                    \"course\": course  # Filter by course\n",
    "                                }\n",
    "                            },\n",
    "                            \"script\": {\n",
    "                                \"source\": \"\"\"\n",
    "                                    cosineSimilarity(params.query_vector, 'question_vector') + \n",
    "                                    cosineSimilarity(params.query_vector, 'text_vector') + \n",
    "                                    cosineSimilarity(params.query_vector, 'question_text_vector') + \n",
    "                                    1\n",
    "                                \"\"\",\n",
    "                                \"params\": {\n",
    "                                    \"query_vector\": vector  # Query vector to match against\n",
    "                                }\n",
    "                            }\n",
    "                        }\n",
    "                    }\n",
    "                ],\n",
    "                \"filter\": {\n",
    "                    \"term\": {\n",
    "                        \"course\": course  # Course filter to narrow the search space\n",
    "                    }\n",
    "                }\n",
    "            }\n",
    "        },\n",
    "        \"_source\": [\"text\", \"section\", \"question\", \"course\", \"id\"]  # Fields to retrieve in the result\n",
    "    }\n",
    "\n",
    "    es_results = es_client.search(\n",
    "        index=index_name,  # Elasticsearch index name\n",
    "        body=search_query  # Search query body\n",
    "    )\n",
    "    \n",
    "    result_docs = []\n",
    "    \n",
    "    # Extract document source fields for each hit in the results\n",
    "    for hit in es_results['hits']['hits']:\n",
    "        result_docs.append(hit['_source'])\n",
    "\n",
    "    return result_docs  # Return the list of matched documents\n"
   ]
  },
  {
   "cell_type": "code",
   "execution_count": 29,
   "id": "d5d1a0bd-deab-4cbc-94eb-a0816629fda4",
   "metadata": {},
   "outputs": [],
   "source": [
    "# This function performs a combined vector search by calling elastic_search_knn_combined().\n",
    "# It initiates a combined vector search that considers multiple vector fields in Elasticsearch, \n",
    "# which may improve retrieval accuracy by combining different aspects of similarity.\n",
    "\n",
    "def vector_combined_knn(q):\n",
    "    question = q['question']  # Extract the question from the query\n",
    "    course = q['course']  # Extract the course name\n",
    "\n",
    "    v_q = model.encode(question)  # Encode the question text into a dense vector\n",
    "\n",
    "    return elastic_search_knn_combined(v_q, course)  # Perform combined KNN search\n"
   ]
  },
  {
   "cell_type": "markdown",
   "id": "5aba8cc8-5af5-4244-9439-c989c51999e7",
   "metadata": {},
   "source": [
    "### Evaluation"
   ]
  },
  {
   "cell_type": "code",
   "execution_count": 31,
   "id": "77683a21-9609-4203-8fe6-bd3e1cd01ad1",
   "metadata": {},
   "outputs": [
    {
     "data": {
      "application/vnd.jupyter.widget-view+json": {
       "model_id": "ca6c4c015f574922a589a5726e62b35d",
       "version_major": 2,
       "version_minor": 0
      },
      "text/plain": [
       "  0%|          | 0/4631 [00:00<?, ?it/s]"
      ]
     },
     "metadata": {},
     "output_type": "display_data"
    },
    {
     "data": {
      "text/plain": [
       "{'hit_rate': 0.8438782120492334, 'mrr': 0.723997696681783}"
      ]
     },
     "execution_count": 31,
     "metadata": {},
     "output_type": "execute_result"
    }
   ],
   "source": [
    "evaluate(ground_truth, text_vector_knn)              # Evaluates using only text vector similarity"
   ]
  },
  {
   "cell_type": "code",
   "execution_count": 32,
   "id": "2c223c93-fb2b-463c-a2a3-18bbf3fc51a6",
   "metadata": {},
   "outputs": [
    {
     "data": {
      "application/vnd.jupyter.widget-view+json": {
       "model_id": "597b54acef674689b3536d33a5a450ba",
       "version_major": 2,
       "version_minor": 0
      },
      "text/plain": [
       "  0%|          | 0/4631 [00:00<?, ?it/s]"
      ]
     },
     "metadata": {},
     "output_type": "display_data"
    },
    {
     "data": {
      "text/plain": [
       "{'hit_rate': 0.9328438782120493, 'mrr': 0.8429784783704027}"
      ]
     },
     "execution_count": 32,
     "metadata": {},
     "output_type": "execute_result"
    }
   ],
   "source": [
    "evaluate(ground_truth, question_text_vector_knn)     # Evaluates using question + text vector similarity"
   ]
  },
  {
   "cell_type": "code",
   "execution_count": 33,
   "id": "fc8a1316-1750-486f-8ee9-61879722c500",
   "metadata": {},
   "outputs": [
    {
     "data": {
      "application/vnd.jupyter.widget-view+json": {
       "model_id": "2b896a392bce45f6bf5614d7c0f4b312",
       "version_major": 2,
       "version_minor": 0
      },
      "text/plain": [
       "  0%|          | 0/4631 [00:00<?, ?it/s]"
      ]
     },
     "metadata": {},
     "output_type": "display_data"
    },
    {
     "data": {
      "text/plain": [
       "{'hit_rate': 0.9209673936514792, 'mrr': 0.8249370186424827}"
      ]
     },
     "execution_count": 33,
     "metadata": {},
     "output_type": "execute_result"
    }
   ],
   "source": [
    "evaluate(ground_truth, vector_combined_knn)          # Evaluates using combined similarity across multiple vectors"
   ]
  },
  {
   "cell_type": "markdown",
   "id": "afebfcb4-1509-409c-b84b-6cb82a5c9edf",
   "metadata": {},
   "source": []
  }
 ],
 "metadata": {
  "kernelspec": {
   "display_name": "Python 3 (ipykernel)",
   "language": "python",
   "name": "python3"
  },
  "language_info": {
   "codemirror_mode": {
    "name": "ipython",
    "version": 3
   },
   "file_extension": ".py",
   "mimetype": "text/x-python",
   "name": "python",
   "nbconvert_exporter": "python",
   "pygments_lexer": "ipython3",
   "version": "3.12.1"
  }
 },
 "nbformat": 4,
 "nbformat_minor": 5
}
