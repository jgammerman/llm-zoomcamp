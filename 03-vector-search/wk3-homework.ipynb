{
 "cells": [
  {
   "cell_type": "markdown",
   "id": "a7e27389-9af7-4cde-a696-3259eaf4686c",
   "metadata": {},
   "source": [
    "# Q1. Getting the embeddings model"
   ]
  },
  {
   "cell_type": "code",
   "execution_count": 1,
   "id": "2a0b20fb-a9d7-4ec4-b260-19efb8b5dd57",
   "metadata": {},
   "outputs": [
    {
     "name": "stderr",
     "output_type": "stream",
     "text": [
      "/usr/local/python/3.12.1/lib/python3.12/site-packages/sentence_transformers/cross_encoder/CrossEncoder.py:13: TqdmExperimentalWarning: Using `tqdm.autonotebook.tqdm` in notebook mode. Use `tqdm.tqdm` instead to force console mode (e.g. in jupyter console)\n",
      "  from tqdm.autonotebook import tqdm, trange\n"
     ]
    }
   ],
   "source": [
    "from sentence_transformers import SentenceTransformer\n",
    "embedding_model = SentenceTransformer('multi-qa-distilbert-cos-v1')"
   ]
  },
  {
   "cell_type": "code",
   "execution_count": 2,
   "id": "506bf33e-ac00-4d2a-86b0-658768bfa276",
   "metadata": {},
   "outputs": [],
   "source": [
    "# Create the embedding for this user question: \"user_question = \"I just discovered the course. Can I still join it?\"\"\n",
    "\n",
    "user_question = \"I just discovered the course. Can I still join it?\"\n",
    "v = embedding_model.encode(user_question)"
   ]
  },
  {
   "cell_type": "code",
   "execution_count": 3,
   "id": "400a8c47-5deb-42f3-a264-98fdab7c6983",
   "metadata": {},
   "outputs": [
    {
     "data": {
      "text/plain": [
       "array([ 0.07822265, -0.04013119,  0.03861362, -0.00017901,  0.08923462,\n",
       "       -0.05045912, -0.01050266,  0.03710563, -0.04187142,  0.03480854],\n",
       "      dtype=float32)"
      ]
     },
     "execution_count": 3,
     "metadata": {},
     "output_type": "execute_result"
    }
   ],
   "source": [
    "v[0:10]"
   ]
  },
  {
   "cell_type": "markdown",
   "id": "60fa9839-9fb5-43e5-9a9d-e7c835936dee",
   "metadata": {},
   "source": [
    "> First value of resulting vector: 0.078"
   ]
  },
  {
   "cell_type": "markdown",
   "id": "3cff8b2e-be38-4710-97e3-279a4008e8ab",
   "metadata": {},
   "source": [
    "## Prepare the documents "
   ]
  },
  {
   "cell_type": "markdown",
   "id": "9a792060-1b4b-4bab-8053-1169cbbab86c",
   "metadata": {},
   "source": [
    "Now we will create the embeddings for the documents."
   ]
  },
  {
   "cell_type": "code",
   "execution_count": 4,
   "id": "74056c46-db6a-4973-b629-a1468c2f4753",
   "metadata": {},
   "outputs": [],
   "source": [
    "import requests \n",
    "\n",
    "base_url = 'https://github.com/DataTalksClub/llm-zoomcamp/blob/main'\n",
    "relative_url = '03-vector-search/eval/documents-with-ids.json'\n",
    "docs_url = f'{base_url}/{relative_url}?raw=1'\n",
    "docs_response = requests.get(docs_url)\n",
    "documents = docs_response.json()"
   ]
  },
  {
   "cell_type": "code",
   "execution_count": 5,
   "id": "3eb54bcf-be90-4979-b895-4928615d1ed8",
   "metadata": {},
   "outputs": [],
   "source": [
    "# documents"
   ]
  },
  {
   "cell_type": "code",
   "execution_count": 6,
   "id": "f4e85ff9-00cf-4195-872f-2001924e7d80",
   "metadata": {},
   "outputs": [
    {
     "data": {
      "text/plain": [
       "375"
      ]
     },
     "execution_count": 6,
     "metadata": {},
     "output_type": "execute_result"
    }
   ],
   "source": [
    "documents = [d for d in documents if d['course'] == \"machine-learning-zoomcamp\"]\n",
    "len(documents)"
   ]
  },
  {
   "cell_type": "markdown",
   "id": "af28cf49-cdae-47b0-9dc7-245e3ba88a54",
   "metadata": {},
   "source": [
    "# Q2. Creating the embeddings"
   ]
  },
  {
   "cell_type": "markdown",
   "id": "5b6d6a01-f5dc-41dc-88f8-9bee9daeefc1",
   "metadata": {},
   "source": [
    "Now for each document, we will create an embedding for both question and answer fields."
   ]
  },
  {
   "cell_type": "code",
   "execution_count": 7,
   "id": "d8a84d06-a416-4e4a-a941-b4686427876c",
   "metadata": {},
   "outputs": [
    {
     "data": {
      "application/vnd.jupyter.widget-view+json": {
       "model_id": "678cbd797b5f491194e1d6c0bdaab371",
       "version_major": 2,
       "version_minor": 0
      },
      "text/plain": [
       "  0%|          | 0/375 [00:00<?, ?it/s]"
      ]
     },
     "metadata": {},
     "output_type": "display_data"
    }
   ],
   "source": [
    "from tqdm.auto import tqdm\n",
    "\n",
    "\n",
    "embeddings = []\n",
    "\n",
    "for d in tqdm(documents):\n",
    "    qa_text = '{question} {text}'.format(**d)\n",
    "    v_qa = embedding_model.encode(qa_text)\n",
    "    embeddings.append(v_qa)"
   ]
  },
  {
   "cell_type": "code",
   "execution_count": 8,
   "id": "75930383-a7dd-4390-8ccb-c900533c78f0",
   "metadata": {},
   "outputs": [
    {
     "data": {
      "text/plain": [
       "(375, 768)"
      ]
     },
     "execution_count": 8,
     "metadata": {},
     "output_type": "execute_result"
    }
   ],
   "source": [
    "import numpy as np\n",
    "X = np.array(embeddings)\n",
    "X.shape"
   ]
  },
  {
   "cell_type": "markdown",
   "id": "2a4f9fb5-50fe-4e3d-a759-50db4b664987",
   "metadata": {},
   "source": [
    "> Answer: shape of X is (375, 768)"
   ]
  },
  {
   "cell_type": "markdown",
   "id": "a8bc56ad-47cb-4d6b-bef0-005763787fa1",
   "metadata": {},
   "source": [
    "# Q3. Search"
   ]
  },
  {
   "cell_type": "code",
   "execution_count": 9,
   "id": "6d302ed1-c7a6-4c09-abd3-04e656acac6e",
   "metadata": {},
   "outputs": [],
   "source": [
    "scores = X.dot(v)"
   ]
  },
  {
   "cell_type": "code",
   "execution_count": 10,
   "id": "4fac61d5-7fc5-462c-ab63-e3521a218442",
   "metadata": {},
   "outputs": [
    {
     "data": {
      "text/plain": [
       "np.float32(0.6506576)"
      ]
     },
     "execution_count": 10,
     "metadata": {},
     "output_type": "execute_result"
    }
   ],
   "source": [
    "scores.max()"
   ]
  },
  {
   "cell_type": "markdown",
   "id": "71fded7b-83b1-42b9-a69c-3f380b85f545",
   "metadata": {},
   "source": [
    "> The highest score in the results is 0.65."
   ]
  },
  {
   "cell_type": "code",
   "execution_count": 16,
   "id": "d30297f7-bd92-45e3-86c1-8b13e9deccd2",
   "metadata": {},
   "outputs": [
    {
     "data": {
      "text/plain": [
       "np.int64(14)"
      ]
     },
     "execution_count": 16,
     "metadata": {},
     "output_type": "execute_result"
    }
   ],
   "source": [
    "scores.argmax()"
   ]
  },
  {
   "cell_type": "code",
   "execution_count": 17,
   "id": "acf75f60-864a-412a-9283-8e02923df6a9",
   "metadata": {},
   "outputs": [
    {
     "data": {
      "text/plain": [
       "{'text': 'Yes, you can. You won’t be able to submit some of the homeworks, but you can still take part in the course.\\nIn order to get a certificate, you need to submit 2 out of 3 course projects and review 3 peers’ Projects by the deadline. It means that if you join the course at the end of November and manage to work on two projects, you will still be eligible for a certificate.',\n",
       " 'section': 'General course-related questions',\n",
       " 'question': 'The course has already started. Can I still join it?',\n",
       " 'course': 'machine-learning-zoomcamp',\n",
       " 'id': 'ee58a693'}"
      ]
     },
     "execution_count": 17,
     "metadata": {},
     "output_type": "execute_result"
    }
   ],
   "source": [
    "documents[14]"
   ]
  },
  {
   "cell_type": "markdown",
   "id": "2ad9b536-36b6-4d7b-afd2-f6e27eda959d",
   "metadata": {},
   "source": [
    "## Vector search"
   ]
  },
  {
   "cell_type": "code",
   "execution_count": 11,
   "id": "067207ff-ead8-4252-a8da-617243ccdfe9",
   "metadata": {},
   "outputs": [],
   "source": [
    "import numpy as np\n",
    "\n",
    "class VectorSearchEngine:\n",
    "    \"\"\"\n",
    "    A simple vector-based search engine that retrieves the most similar documents\n",
    "    to a given query vector based on precomputed document embeddings.\n",
    "    \n",
    "    Attributes:\n",
    "        documents (list): A list of documents to search within.\n",
    "        embeddings (numpy.ndarray): A matrix of embeddings, where each row corresponds\n",
    "                                    to the embedding of a document.\n",
    "    \"\"\"\n",
    "    \n",
    "    def __init__(self, documents, embeddings):\n",
    "        \"\"\"\n",
    "        Initializes the search engine with documents and their corresponding embeddings.\n",
    "\n",
    "        Args:\n",
    "            documents (list): List of documents.\n",
    "            embeddings (numpy.ndarray): Matrix of embeddings, where each row is a document embedding.\n",
    "        \"\"\"\n",
    "        self.documents = documents\n",
    "        self.embeddings = embeddings\n",
    "\n",
    "    def search(self, v_query, num_results=10):\n",
    "        \"\"\"\n",
    "        Finds and returns the most similar documents to the query vector based on cosine similarity.\n",
    "\n",
    "        Args:\n",
    "            v_query (numpy.ndarray): The query vector.\n",
    "            num_results (int): The number of top similar documents to return.\n",
    "\n",
    "        Returns:\n",
    "            list: The top 'num_results' documents sorted by similarity to the query.\n",
    "        \"\"\"\n",
    "        # Calculate similarity scores using dot product between embeddings and the query vector\n",
    "        scores = self.embeddings.dot(v_query)\n",
    "        \n",
    "        # Get indices of the top 'num_results' scores in descending order\n",
    "        idx = np.argsort(-scores)[:num_results]\n",
    "        \n",
    "        # Retrieve and return the most similar documents based on the indices\n",
    "        return [self.documents[i] for i in idx]\n"
   ]
  },
  {
   "cell_type": "code",
   "execution_count": 12,
   "id": "bb4a5346-3a7f-41c4-acf8-147af8c9d692",
   "metadata": {},
   "outputs": [
    {
     "data": {
      "text/plain": [
       "[{'text': 'Yes, you can. You won’t be able to submit some of the homeworks, but you can still take part in the course.\\nIn order to get a certificate, you need to submit 2 out of 3 course projects and review 3 peers’ Projects by the deadline. It means that if you join the course at the end of November and manage to work on two projects, you will still be eligible for a certificate.',\n",
       "  'section': 'General course-related questions',\n",
       "  'question': 'The course has already started. Can I still join it?',\n",
       "  'course': 'machine-learning-zoomcamp',\n",
       "  'id': 'ee58a693'},\n",
       " {'text': 'Welcome to the course! Go to the course page (http://mlzoomcamp.com/), scroll down and start going through the course materials. Then read everything in the cohort folder for your cohort’s year.\\nClick on the links and start watching the videos. Also watch office hours from previous cohorts. Go to DTC youtube channel and click on Playlists and search for {course yyyy}. ML Zoomcamp was first launched in 2021.\\nOr you can just use this link: http://mlzoomcamp.com/#syllabus',\n",
       "  'section': 'General course-related questions',\n",
       "  'question': 'I just joined. What should I do next? How can I access course materials?',\n",
       "  'course': 'machine-learning-zoomcamp',\n",
       "  'id': '0a278fb2'},\n",
       " {'text': \"The process is automated now, so you should receive the email eventually. If you haven’t, check your promotions tab in Gmail as well as spam.\\nIf you unsubscribed from our newsletter, you won't get course related updates too.\\nBut don't worry, it’s not a problem. To make sure you don’t miss anything, join the #course-ml-zoomcamp channel in Slack and our telegram channel with announcements. This is enough to follow the course.\",\n",
       "  'section': 'General course-related questions',\n",
       "  'question': \"I filled the form, but haven't received a confirmation email. Is it normal?\",\n",
       "  'course': 'machine-learning-zoomcamp',\n",
       "  'id': '6ba259b1'},\n",
       " {'text': 'Technically, yes. Advisable? Not really. Reasons:\\nSome homework(s) asks for specific python library versions.\\nAnswers may not match in MCQ options if using different languages other than Python 3.10 (the recommended version for 2023 cohort)\\nAnd as for midterms/capstones, your peer-reviewers may not know these other languages. Do you want to be penalized for others not knowing these other languages?\\nYou can create a separate repo using course’s lessons but written in other languages for your own learnings, but not advisable for submissions.\\ntx[source]',\n",
       "  'section': 'Miscellaneous',\n",
       "  'question': 'Can I do the course in other languages, like R or Scala?',\n",
       "  'course': 'machine-learning-zoomcamp',\n",
       "  'id': '9f261648'},\n",
       " {'text': 'We won’t re-record the course videos. The focus of the course and the skills we want to teach remained the same, and the videos are still up-to-date.\\nIf you haven’t taken part in the previous iteration, you can start watching the videos. It’ll be useful for you and you will learn new things. However, we recommend using Python 3.10 now instead of Python 3.8.',\n",
       "  'section': 'General course-related questions',\n",
       "  'question': 'The course videos are from the previous iteration. Will you release new ones or we’ll use the videos from 2021?',\n",
       "  'course': 'machine-learning-zoomcamp',\n",
       "  'id': 'e7ba6b8a'}]"
      ]
     },
     "execution_count": 12,
     "metadata": {},
     "output_type": "execute_result"
    }
   ],
   "source": [
    "# Initialize the search engine with documents and their embeddings\n",
    "search_engine = VectorSearchEngine(documents=documents, embeddings=X)\n",
    "\n",
    "# Perform a search with the query vector 'v' and retrieve top 5 results\n",
    "search_engine.search(v, num_results=5)\n"
   ]
  },
  {
   "cell_type": "markdown",
   "id": "82348a0d-529d-45fd-8200-2ce121091448",
   "metadata": {},
   "source": [
    "# Q4. Hit-rate for our search engine"
   ]
  },
  {
   "cell_type": "markdown",
   "id": "17b1a920-60ee-48f3-b645-022e2c7110a2",
   "metadata": {},
   "source": [
    "Let's evaluate the performance of our own search engine. We will use the hitrate metric for evaluation."
   ]
  },
  {
   "cell_type": "markdown",
   "id": "17c889ef-99ae-4f11-8f29-911ca6907457",
   "metadata": {},
   "source": [
    "The following code chunks loads a ground truth dataset for a course Q&A, then evaluates a vector-based search engine's accuracy in retrieving relevant documents. It defines two key metrics—**Hit Rate** and **Mean Reciprocal Rank (MRR)**—to assess how well the search engine retrieves documents that match each query. The `numpy_cosine_search()` function encodes a query into a vector and finds the top 5 most similar documents using cosine similarity on precomputed document embeddings. Finally, the `evaluate()` function uses the ground truth data to measure Hit Rate and MRR for `numpy_cosine_search`, providing insight into the search engine's retrieval performance."
   ]
  },
  {
   "cell_type": "code",
   "execution_count": 13,
   "id": "9758a86e-58f1-46df-834a-2ce4e5befcb4",
   "metadata": {},
   "outputs": [],
   "source": [
    "# Load the ground truth dataset\n",
    "\n",
    "import pandas as pd\n",
    "\n",
    "base_url = 'https://github.com/DataTalksClub/llm-zoomcamp/blob/main'\n",
    "relative_url = '03-vector-search/eval/ground-truth-data.csv'\n",
    "ground_truth_url = f'{base_url}/{relative_url}?raw=1'\n",
    "\n",
    "df_ground_truth = pd.read_csv(ground_truth_url)\n",
    "df_ground_truth = df_ground_truth[df_ground_truth.course == 'machine-learning-zoomcamp']\n",
    "ground_truth = df_ground_truth.to_dict(orient='records')"
   ]
  },
  {
   "cell_type": "markdown",
   "id": "3dde4b9a-f3f2-454f-b800-d9ab16235732",
   "metadata": {},
   "source": [
    "### Using the code from the module to calculate the hitrate of `VectorSearchEngine` with num_results=5."
   ]
  },
  {
   "cell_type": "code",
   "execution_count": 18,
   "id": "0c8aaac7-002c-491d-bafe-f660552c0ce7",
   "metadata": {},
   "outputs": [],
   "source": [
    "# Function to calculate Hit Rate\n",
    "def hit_rate(relevance_total):\n",
    "    cnt = 0\n",
    "\n",
    "    # Count the number of queries where at least one relevant document is retrieved\n",
    "    for line in relevance_total:\n",
    "        if True in line:\n",
    "            cnt = cnt + 1\n",
    "\n",
    "    # Calculate the hit rate by dividing relevant hits by the total number of queries\n",
    "    return cnt / len(relevance_total)"
   ]
  },
  {
   "cell_type": "code",
   "execution_count": 19,
   "id": "e47efdc5-8b25-4c13-a293-0cdba01b80de",
   "metadata": {},
   "outputs": [],
   "source": [
    "# Function to calculate Mean Reciprocal Rank (MRR)\n",
    "def mrr(relevance_total):\n",
    "    total_score = 0.0\n",
    "\n",
    "    # Iterate over each query's relevance list\n",
    "    for line in relevance_total:\n",
    "        # Look for the first relevant document and calculate its reciprocal rank\n",
    "        for rank in range(len(line)):\n",
    "            if line[rank] == True:\n",
    "                total_score = total_score + 1 / (rank + 1)  # Reciprocal rank\n",
    "                break  # Stop after finding the first relevant document\n",
    "\n",
    "    # Return the average of the reciprocal ranks across all queries\n",
    "    return total_score / len(relevance_total)\n"
   ]
  },
  {
   "cell_type": "code",
   "execution_count": 21,
   "id": "50868939-10e1-4f1c-bb89-5b40c179434c",
   "metadata": {},
   "outputs": [],
   "source": [
    "# Function to evaluate a search function's performance using Hit Rate and MRR\n",
    "def evaluate(ground_truth, search_function):\n",
    "    relevance_total = []\n",
    "\n",
    "    # Loop over each query in the ground truth data\n",
    "    for q in tqdm(ground_truth):\n",
    "        doc_id = q['document']  # Expected document ID for this query\n",
    "        results = search_function(q)  # Run the search function on the query\n",
    "        # Check if the document IDs in the results match the expected document ID\n",
    "        relevance = [d['id'] == doc_id for d in results]\n",
    "        relevance_total.append(relevance)  # Add the relevance list for this query\n",
    "\n",
    "    # Return a dictionary containing Hit Rate and MRR\n",
    "    return {\n",
    "        'hit_rate': hit_rate(relevance_total),\n",
    "        'mrr': mrr(relevance_total),\n",
    "    }\n"
   ]
  },
  {
   "cell_type": "markdown",
   "id": "39f859f5-529e-4c56-803f-2d39d782980f",
   "metadata": {},
   "source": [
    "Now encode a query using `embedding_model`, then search for the top 5 most similar documents using search_engine.search() based on cosine similarity of vectors:"
   ]
  },
  {
   "cell_type": "code",
   "execution_count": 22,
   "id": "ee348c19-0152-4480-a4dd-c2e9c23a9a7f",
   "metadata": {},
   "outputs": [],
   "source": [
    "def numpy_cosine_search(q):\n",
    "    \"\"\"\n",
    "    Encodes a query into a vector and searches for the most similar documents\n",
    "    using cosine similarity in a vector-based search engine.\n",
    "    \n",
    "    Args:\n",
    "        q (dict): A query dictionary containing the 'question' field, which \n",
    "                  holds the text of the query.\n",
    "    \n",
    "    Returns:\n",
    "        list: A list of the top 5 most similar documents, ranked by cosine similarity.\n",
    "    \"\"\"\n",
    "    \n",
    "    # Extract the question text from the query dictionary\n",
    "    question = q['question']\n",
    "    \n",
    "    # Encode the question text into a dense vector using the embedding model\n",
    "    v_q = embedding_model.encode(question)\n",
    "    \n",
    "    # Use the vector search engine to find the top 5 documents similar to the query vector\n",
    "    return search_engine.search(v_q, num_results=5)\n"
   ]
  },
  {
   "cell_type": "code",
   "execution_count": 23,
   "id": "e1cabb56-6ccd-4f12-b671-5dbfbd684f90",
   "metadata": {},
   "outputs": [
    {
     "data": {
      "text/plain": [
       "[{'text': 'Everything is recorded, so you won’t miss anything. You will be able to ask your questions for office hours in advance and we will cover them during the live stream. Also, you can always ask questions in Slack.',\n",
       "  'section': 'General course-related questions',\n",
       "  'question': 'What if I miss a session?',\n",
       "  'course': 'machine-learning-zoomcamp',\n",
       "  'id': '5170565b'},\n",
       " {'text': 'The course videos are pre-recorded, you can start watching the course right now.\\nWe will also occasionally have office hours - live sessions where we will answer your questions. The office hours sessions are recorded too.\\nYou can see the office hours as well as the pre-recorded course videos in the course playlist on YouTube.',\n",
       "  'section': 'General course-related questions',\n",
       "  'question': 'Is it going to be live? When?',\n",
       "  'course': 'machine-learning-zoomcamp',\n",
       "  'id': '39fda9f0'},\n",
       " {'text': 'We won’t re-record the course videos. The focus of the course and the skills we want to teach remained the same, and the videos are still up-to-date.\\nIf you haven’t taken part in the previous iteration, you can start watching the videos. It’ll be useful for you and you will learn new things. However, we recommend using Python 3.10 now instead of Python 3.8.',\n",
       "  'section': 'General course-related questions',\n",
       "  'question': 'The course videos are from the previous iteration. Will you release new ones or we’ll use the videos from 2021?',\n",
       "  'course': 'machine-learning-zoomcamp',\n",
       "  'id': 'e7ba6b8a'},\n",
       " {'text': \"Yes, it's possible. See the previous answer.\",\n",
       "  'section': 'General course-related questions',\n",
       "  'question': 'Will I get a certificate if I missed the midterm project?',\n",
       "  'course': 'machine-learning-zoomcamp',\n",
       "  'id': '1d644223'},\n",
       " {'text': 'Answer: All midterms and capstones are meant to be solo projects. [source @Alexey]',\n",
       "  'section': 'Projects (Midterm and Capstone)',\n",
       "  'question': 'Are projects solo or collaborative/group work?',\n",
       "  'course': 'machine-learning-zoomcamp',\n",
       "  'id': '4dfb5d4f'}]"
      ]
     },
     "execution_count": 23,
     "metadata": {},
     "output_type": "execute_result"
    }
   ],
   "source": [
    "numpy_cosine_search(ground_truth[10])"
   ]
  },
  {
   "cell_type": "code",
   "execution_count": 24,
   "id": "5165b2b7-6423-40b1-a8e3-3a4cc9fc581b",
   "metadata": {},
   "outputs": [
    {
     "data": {
      "application/vnd.jupyter.widget-view+json": {
       "model_id": "cb80144bfb9442aab20a890ac45d27b0",
       "version_major": 2,
       "version_minor": 0
      },
      "text/plain": [
       "  0%|          | 0/1830 [00:00<?, ?it/s]"
      ]
     },
     "metadata": {},
     "output_type": "display_data"
    },
    {
     "data": {
      "text/plain": [
       "{'hit_rate': 0.9398907103825137, 'mrr': 0.8502823315118397}"
      ]
     },
     "execution_count": 24,
     "metadata": {},
     "output_type": "execute_result"
    }
   ],
   "source": [
    "evaluate(ground_truth, numpy_cosine_search)"
   ]
  },
  {
   "cell_type": "markdown",
   "id": "284090a9-5801-47d0-96d1-67b5ad8e877d",
   "metadata": {},
   "source": [
    "> Ans: the hit rate of `VectorSearchEngine` with `num_results=5` is 0.93."
   ]
  },
  {
   "cell_type": "markdown",
   "id": "f736e37a-79c8-4b12-813b-2bd3f1bdd646",
   "metadata": {},
   "source": [
    "# Q5. Indexing with Elasticsearch"
   ]
  },
  {
   "cell_type": "markdown",
   "id": "7d4d469b-9651-4796-a4e4-a2cb5375d7a1",
   "metadata": {},
   "source": [
    "Now let's index these documents with elasticsearch\n",
    "\n",
    "- Create the index with the same settings as in the module (but change the dimensions)\n",
    "- Index the embeddings (note: you've already computed them)\n",
    "- After indexing, let's perform the search of the same query from Q1."
   ]
  },
  {
   "cell_type": "code",
   "execution_count": 25,
   "id": "4ff925dc-46a0-4449-9697-37a4fe96cfca",
   "metadata": {},
   "outputs": [
    {
     "data": {
      "text/plain": [
       "ObjectApiResponse({'acknowledged': True, 'shards_acknowledged': True, 'index': 'course-questions-homework'})"
      ]
     },
     "execution_count": 25,
     "metadata": {},
     "output_type": "execute_result"
    }
   ],
   "source": [
    "from elasticsearch import Elasticsearch\n",
    "\n",
    "# Initialize Elasticsearch Client:\n",
    "es_client = Elasticsearch('http://localhost:9200') \n",
    "\n",
    "# Define Index Settings:\n",
    "index_settings = {\n",
    "    \"settings\": {\n",
    "        \"number_of_shards\": 1,\n",
    "        \"number_of_replicas\": 0\n",
    "    },\n",
    "    \"mappings\": {\n",
    "        \"properties\": {\n",
    "            \"text\": {\"type\": \"text\"},\n",
    "            \"section\": {\"type\": \"text\"},\n",
    "            \"question\": {\"type\": \"text\"},\n",
    "            \"course\": {\"type\": \"keyword\"},\n",
    "            \"id\": {\"type\": \"keyword\"},\n",
    "            \"question_text_vector\": {\n",
    "                \"type\": \"dense_vector\",\n",
    "                \"dims\": 768,\n",
    "                \"index\": True,\n",
    "                \"similarity\": \"cosine\"\n",
    "            },\n",
    "        }\n",
    "    }\n",
    "}\n",
    "\n",
    "index_name = \"course-questions-homework\"\n",
    "\n",
    "# create index\n",
    "es_client.indices.delete(index=index_name, ignore_unavailable=True)\n",
    "es_client.indices.create(index=index_name, body=index_settings)"
   ]
  },
  {
   "cell_type": "code",
   "execution_count": 26,
   "id": "f4225c8e-54c6-47ad-bb76-4993f4883c7c",
   "metadata": {},
   "outputs": [
    {
     "data": {
      "application/vnd.jupyter.widget-view+json": {
       "model_id": "aac98a8d0862404da7e5676bf3fcbdd3",
       "version_major": 2,
       "version_minor": 0
      },
      "text/plain": [
       "  0%|          | 0/375 [00:00<?, ?it/s]"
      ]
     },
     "metadata": {},
     "output_type": "display_data"
    }
   ],
   "source": [
    "# Index Documents with Embeddings:\n",
    "for d, emb in zip(tqdm(documents), embeddings):\n",
    "    d['question_text_vector'] = emb\n",
    "    es_client.index(index=index_name, document=d)"
   ]
  },
  {
   "cell_type": "code",
   "execution_count": 36,
   "id": "d9288f6a-9898-4225-a39c-b088793b92ec",
   "metadata": {},
   "outputs": [
    {
     "data": {
      "text/plain": [
       "{'text': 'Machine Learning Zoomcamp FAQ\\nThe purpose of this document is to capture frequently asked technical questions.\\nWe did this for our data engineering course and it worked quite well. Check this document for inspiration on how to structure your questions and answers:\\nData Engineering Zoomcamp FAQ\\nIn the course GitHub repository there’s a link. Here it is: https://airtable.com/shryxwLd0COOEaqXo\\nwork',\n",
       " 'section': 'General course-related questions',\n",
       " 'question': 'How do I sign up?',\n",
       " 'course': 'machine-learning-zoomcamp',\n",
       " 'id': '0227b872',\n",
       " 'question_text_vector': array([ 8.80590826e-02,  1.55936303e-02,  7.92557970e-02,  2.52757017e-02,\n",
       "         7.55764470e-02, -3.90596874e-02, -4.13813516e-02,  2.52917148e-02,\n",
       "         2.43241936e-02,  3.62589653e-03, -7.28291832e-03, -3.28751504e-02,\n",
       "         6.12956844e-02, -5.71100302e-02,  1.16774160e-02, -1.79440994e-02,\n",
       "         4.49206010e-02, -5.41605838e-02, -1.92251673e-03,  1.48329176e-02,\n",
       "         7.91349541e-03, -3.43126915e-02,  1.21480506e-02,  1.27186142e-02,\n",
       "        -1.60091482e-02,  7.12134223e-03,  1.58389099e-02, -3.27580667e-04,\n",
       "         3.01294704e-03, -4.58918028e-02, -1.34769897e-03,  2.01150309e-02,\n",
       "         2.33723707e-02, -4.28199163e-03, -3.09383217e-02,  1.94305123e-03,\n",
       "        -1.88219547e-02,  5.35159511e-03,  1.29352175e-02, -3.23959067e-02,\n",
       "         3.10556982e-02,  5.12981601e-03, -3.24453868e-04, -3.15541923e-02,\n",
       "         1.93377677e-02, -6.38601631e-02, -3.05380840e-02, -6.27885684e-02,\n",
       "        -1.74859837e-02,  3.52948606e-02, -2.98070442e-02,  7.45345876e-02,\n",
       "        -2.06182096e-02, -1.79157648e-02,  1.86262820e-02,  5.31013906e-02,\n",
       "         1.19286971e-02, -5.18543273e-02, -1.61929161e-03,  3.58706303e-02,\n",
       "        -6.52320497e-03,  4.53287289e-02, -1.06174527e-02,  1.02415429e-02,\n",
       "        -4.41201031e-02, -7.07985163e-02,  1.33666219e-02, -2.05063000e-02,\n",
       "         3.62042375e-02, -3.39450054e-02,  3.25138904e-02,  2.22205203e-02,\n",
       "        -3.24136987e-02, -3.93159762e-02,  2.75340397e-04,  2.43685916e-02,\n",
       "         1.57890040e-02,  2.50409245e-02,  1.70954713e-03, -2.63252092e-04,\n",
       "         4.40217219e-02, -5.46364449e-02,  2.34349221e-02,  2.99487393e-02,\n",
       "         1.41274128e-02, -2.91330367e-02, -6.47388725e-03, -3.54053788e-02,\n",
       "         1.71306152e-02,  2.90904325e-02,  1.46858953e-02,  8.54331907e-03,\n",
       "        -3.44417393e-02, -1.04836328e-02,  3.15485708e-02, -8.74644294e-02,\n",
       "        -2.11829133e-02, -5.05226701e-02, -7.52345007e-03,  4.42793071e-02,\n",
       "         3.77509706e-02, -1.24980172e-03,  6.45400118e-03, -1.53079759e-02,\n",
       "         1.66407786e-02,  5.46391569e-02,  1.78501159e-02, -7.61290174e-03,\n",
       "        -4.61103246e-02,  4.10020053e-02, -4.52273488e-02, -2.77623348e-02,\n",
       "         1.95288099e-02, -6.11867756e-02,  1.12643875e-02,  5.08545013e-03,\n",
       "         4.85851355e-02, -9.07001365e-03, -9.79344640e-03,  1.72461849e-02,\n",
       "        -7.30905384e-02,  5.36573380e-02, -3.24016586e-02,  1.24105206e-02,\n",
       "         1.06903249e-02,  3.30721140e-02,  4.14839312e-02,  3.38428579e-02,\n",
       "        -1.12893700e-03, -9.08525810e-02,  3.76031245e-03, -3.49575095e-02,\n",
       "         1.31473402e-02,  1.33828064e-02,  3.44474725e-02,  6.85055181e-02,\n",
       "        -1.42454403e-02, -5.42298891e-02, -8.57380498e-03,  2.42687520e-02,\n",
       "         5.15868738e-02, -2.89776083e-02, -1.47677734e-02, -1.08240061e-02,\n",
       "        -5.66393137e-02, -2.07526027e-03, -3.71210165e-02,  4.00511175e-03,\n",
       "        -5.97900748e-02, -1.55889224e-02,  2.72703804e-02,  1.94720440e-02,\n",
       "         1.87414605e-02, -3.74510475e-02,  2.62066610e-02,  7.50286058e-02,\n",
       "         2.16102228e-02, -1.37813007e-02,  5.01989014e-02, -6.47023926e-03,\n",
       "         5.67430370e-02, -4.03868034e-02, -1.20674772e-02,  8.55053291e-02,\n",
       "        -2.71649286e-03,  2.78823990e-02, -4.38818112e-02, -2.82746702e-02,\n",
       "         1.92068443e-02, -4.36237641e-02,  3.98129150e-02, -5.63067757e-02,\n",
       "         1.37330983e-02,  4.01088735e-03, -7.01442594e-03, -1.51920347e-02,\n",
       "         4.40158434e-02,  2.72325408e-02,  3.32807265e-02,  3.21898796e-02,\n",
       "        -8.18990991e-02, -5.92770539e-02,  2.22220104e-02, -2.69076601e-02,\n",
       "         4.15942892e-02, -1.37760369e-02,  4.10629697e-02,  4.05325256e-02,\n",
       "        -5.58695495e-02,  3.60302366e-02, -6.35677064e-03, -1.65046863e-02,\n",
       "        -1.07161584e-03, -7.76122697e-03,  5.12158610e-02, -3.07670794e-02,\n",
       "        -3.98046486e-02,  2.19666511e-02, -9.50634107e-03,  2.66281422e-02,\n",
       "         3.57357152e-02,  5.89501299e-02,  5.54055674e-03, -1.41583884e-03,\n",
       "        -2.31177546e-02,  2.41298205e-03, -2.71169972e-02, -3.01101897e-02,\n",
       "        -1.71694476e-02, -3.58681865e-02, -4.03450578e-02,  2.02253889e-02,\n",
       "         1.31837809e-02, -1.05259996e-02,  1.65335853e-02, -1.22697372e-02,\n",
       "        -3.93680371e-02,  9.12589952e-03, -1.34845972e-02,  2.73655392e-02,\n",
       "         3.88677530e-02, -3.65222059e-03, -2.11339090e-02,  2.25964337e-04,\n",
       "        -3.12621966e-02, -3.47089060e-02, -4.12916504e-02,  2.91098189e-02,\n",
       "         5.44958636e-02, -1.32070035e-01,  9.59288329e-03, -1.37135005e-02,\n",
       "         4.40674648e-02, -1.03825763e-01,  6.36642650e-02,  8.60987697e-03,\n",
       "         1.49037130e-02,  8.22722213e-04, -2.20600814e-02, -9.55891563e-04,\n",
       "        -4.45748359e-04, -1.26142986e-02, -4.75995913e-02, -2.14227438e-02,\n",
       "         4.69317324e-02,  2.59528439e-02, -1.09704891e-02, -1.69420186e-02,\n",
       "         7.51991197e-03, -5.15509732e-02,  4.28996608e-02,  1.28122116e-03,\n",
       "        -1.04662962e-02, -1.64836403e-02, -4.98015545e-02,  4.39343490e-02,\n",
       "         5.84346540e-02, -4.44176048e-02,  6.89990958e-03,  5.39159887e-02,\n",
       "         1.75766051e-02,  7.08559621e-03, -2.18797345e-02, -1.89143443e-03,\n",
       "         1.05513595e-02, -5.98141067e-02, -3.13124359e-02, -2.73168311e-02,\n",
       "         3.12897004e-02,  5.49117178e-02, -1.85728632e-02, -2.15361100e-02,\n",
       "         6.17362447e-02,  7.07531162e-03,  2.01493669e-02, -4.06040251e-02,\n",
       "         2.30053160e-02,  2.01894939e-02,  1.80803370e-02,  3.35160978e-02,\n",
       "        -2.27058195e-02, -5.81537187e-02,  3.04265022e-02, -1.40142199e-02,\n",
       "         2.95397658e-02,  1.17535749e-02, -7.83733502e-02,  2.78971661e-02,\n",
       "        -4.30106558e-02, -7.59010166e-02,  4.92750257e-02,  7.59606957e-02,\n",
       "         3.54484632e-03,  5.81535287e-02,  4.69778813e-02, -4.00015805e-03,\n",
       "        -4.00546659e-03,  2.51615141e-02, -9.95812416e-02,  3.34291123e-02,\n",
       "        -3.01802484e-03,  3.01541220e-02,  4.54931743e-02, -7.25228935e-02,\n",
       "         4.01626825e-02, -1.16757434e-02, -6.19696593e-03, -9.54162851e-02,\n",
       "        -3.01121492e-02, -2.74964850e-02, -4.44819294e-02,  1.52523897e-03,\n",
       "        -6.31317347e-02, -8.02881047e-02,  4.55777757e-02,  3.08043566e-02,\n",
       "        -4.65145521e-03, -2.48231785e-03, -1.87035426e-02,  3.56814340e-02,\n",
       "        -8.61485451e-02, -8.76675639e-03,  5.94233833e-02,  7.03033507e-02,\n",
       "        -3.35508026e-03,  3.14285271e-02,  3.35557610e-02,  4.47359420e-02,\n",
       "        -1.82780940e-02,  4.33742628e-03, -1.56071577e-02,  4.82698455e-02,\n",
       "         5.78109995e-02, -1.55578018e-03, -3.07916217e-02,  3.06997541e-02,\n",
       "         3.05095315e-02,  4.37345132e-02, -2.46432070e-02, -1.98744442e-02,\n",
       "         7.25649996e-03,  3.61755602e-02, -1.86709985e-02, -1.69780143e-02,\n",
       "         5.28292432e-02,  1.72064733e-03,  3.34720612e-02, -6.57697544e-02,\n",
       "        -3.20816673e-02,  4.12166584e-03,  8.29507411e-03, -4.56412286e-02,\n",
       "         3.20224687e-02, -2.28898004e-02,  5.52555881e-02,  4.02579010e-02,\n",
       "        -2.90957596e-02, -3.44280316e-03, -1.38217034e-02, -6.28945243e-04,\n",
       "         2.53444482e-02,  1.89793650e-02, -4.45093103e-02, -4.78352420e-02,\n",
       "         3.22866030e-02,  6.68824911e-02, -8.67472589e-03, -7.80015020e-03,\n",
       "         2.92880111e-03, -2.42292155e-02, -2.09650248e-02, -1.09208770e-01,\n",
       "        -2.94363294e-02,  1.47712398e-02, -4.47422601e-02, -2.71011107e-02,\n",
       "        -3.91132804e-03,  1.68100987e-02,  3.11842356e-02,  1.24179237e-02,\n",
       "         6.59743231e-03, -4.44687810e-03, -3.45145576e-02, -1.24454591e-03,\n",
       "         5.61033413e-02, -4.12151292e-02,  4.74843644e-02,  3.92920859e-02,\n",
       "        -5.78538924e-02, -4.47588190e-02,  1.95152909e-02,  3.01112216e-02,\n",
       "        -8.72346386e-03, -2.85054576e-02, -7.27256946e-03,  3.58912945e-02,\n",
       "        -7.09610060e-02, -6.56752735e-02,  5.03807748e-03,  2.90021021e-02,\n",
       "         4.08619875e-03,  7.97060225e-03, -2.29644924e-02, -4.41172384e-02,\n",
       "         4.12212424e-02,  2.17065588e-02,  1.23129869e-02, -1.74234565e-02,\n",
       "        -1.55699560e-02, -1.17438044e-02,  5.18719777e-02,  3.44446581e-03,\n",
       "        -6.66774884e-02,  3.35143842e-02, -4.39760601e-03, -3.66433598e-02,\n",
       "         7.48344734e-02,  1.37544367e-02, -5.05722053e-02, -1.69508476e-02,\n",
       "        -9.13899988e-02,  3.94619144e-02, -4.91533726e-02,  2.32399739e-02,\n",
       "        -6.95736753e-03, -2.49377228e-02,  1.79813411e-02, -3.91751006e-02,\n",
       "         2.72794291e-02,  5.39086014e-02,  6.70256913e-02,  2.87340358e-02,\n",
       "         7.15198508e-03,  4.48692404e-02, -2.89589632e-02,  2.67862268e-02,\n",
       "         6.71392605e-02, -3.71888699e-03, -2.13471353e-02,  4.02928554e-02,\n",
       "         5.37430644e-02,  2.69309292e-03,  3.33234519e-02,  4.19460423e-02,\n",
       "         3.77101004e-02,  1.00907153e-02,  1.64033361e-02,  1.37284426e-02,\n",
       "         4.92302813e-02,  5.35364300e-02,  5.79526201e-02, -3.29138711e-02,\n",
       "         1.22459866e-02,  2.88262330e-02, -4.93665878e-03,  2.96172146e-02,\n",
       "         6.32616319e-03, -4.79912274e-02, -3.14916559e-02, -3.97242345e-02,\n",
       "        -3.50665599e-02,  2.99803470e-03, -9.44074895e-03,  2.62564328e-03,\n",
       "         9.90508124e-03, -5.18645309e-02,  2.04040688e-02,  3.75541635e-02,\n",
       "         8.65953043e-03,  3.73829193e-02,  2.54472084e-02, -1.32634807e-02,\n",
       "         8.06263983e-02,  2.10315660e-02, -1.99040528e-02, -1.00638373e-02,\n",
       "        -3.93789075e-02, -3.32227536e-02,  1.41281942e-02,  4.00279351e-02,\n",
       "        -7.60367885e-03, -4.89356630e-02, -2.67797094e-02, -5.59408218e-02,\n",
       "         3.21788192e-02,  8.22693575e-03,  3.76135372e-02,  8.17606505e-03,\n",
       "        -1.37847047e-02, -2.16961093e-02,  1.27260974e-02, -6.38861675e-03,\n",
       "        -8.46951362e-03, -6.06385060e-03, -1.16485134e-02,  1.15113286e-02,\n",
       "         2.72040311e-02, -1.29375122e-02, -1.30015118e-02,  3.71454991e-02,\n",
       "         2.18765996e-02,  2.41832305e-02,  3.43355961e-04, -1.44565450e-02,\n",
       "         3.24437544e-02,  5.78669943e-02,  1.25016281e-02,  1.83984116e-02,\n",
       "        -7.32085556e-02, -1.24306763e-02, -1.85831040e-02, -2.32735393e-03,\n",
       "         1.47508550e-02,  1.19953724e-02, -2.08624196e-03, -2.90984400e-02,\n",
       "         3.42219311e-04, -2.48183105e-02, -2.78203934e-02, -3.26308003e-03,\n",
       "        -1.13068074e-02, -3.82190123e-02, -8.83377939e-02, -2.67932396e-02,\n",
       "        -4.97603230e-02,  1.06248967e-02, -2.03506928e-02,  4.61897478e-02,\n",
       "         3.04142721e-02,  7.39258751e-02, -1.93728525e-02, -6.24436513e-02,\n",
       "        -4.30182777e-02, -2.44436716e-03,  2.31976192e-02,  2.40072552e-02,\n",
       "        -6.32212833e-02, -1.28708258e-02, -1.06627559e-02, -1.21628083e-02,\n",
       "         4.63577062e-02,  8.66865460e-03, -3.91136073e-02,  5.18057961e-03,\n",
       "        -3.37269977e-02,  4.08052541e-02,  4.56021689e-02, -5.35721797e-03,\n",
       "         1.47815337e-02,  6.52766600e-03, -1.91998649e-02,  1.32419169e-02,\n",
       "         1.28353890e-02,  3.14028673e-02,  2.19753403e-02, -1.87768098e-02,\n",
       "         9.01830662e-03,  1.66758671e-02,  1.36965699e-03,  4.85402420e-02,\n",
       "        -5.04995659e-02,  2.72835921e-02, -2.80779973e-03,  8.74803681e-03,\n",
       "         2.16660686e-02,  1.66531652e-02, -4.64340635e-02, -1.94113180e-02,\n",
       "         1.49265137e-02, -2.04602107e-02, -9.30300280e-02, -3.57570336e-03,\n",
       "         4.36928570e-02,  4.18228358e-02, -1.04740290e-02,  9.13392566e-03,\n",
       "        -1.26577765e-02,  9.28766211e-04,  3.03164963e-02,  9.25375242e-03,\n",
       "        -1.58127933e-03,  6.60841614e-02,  1.97660401e-02, -3.60444337e-02,\n",
       "        -3.43119400e-03, -3.59756351e-02,  1.49511453e-02, -2.88110059e-02,\n",
       "         1.71100609e-02,  4.95877638e-02,  3.53193432e-02,  4.19225469e-02,\n",
       "         4.83730435e-02,  1.96335316e-02, -1.70035614e-03,  9.81866047e-02,\n",
       "         1.77094527e-02, -3.84568446e-03, -4.52681482e-02, -4.13474021e-03,\n",
       "        -5.71959838e-02,  1.04758451e-02,  1.73035488e-02,  4.14521731e-02,\n",
       "         1.68829709e-02, -1.23576475e-02, -1.35784755e-02,  6.87890947e-02,\n",
       "         1.86708663e-02,  5.50276190e-02,  2.71758549e-02, -3.02900523e-02,\n",
       "         4.20797803e-02,  3.58546376e-02, -7.05272779e-02,  8.97800643e-03,\n",
       "         3.04064136e-02, -4.93472256e-03, -3.86131890e-02, -6.36185035e-02,\n",
       "        -1.28050372e-02,  1.45554570e-02, -3.86997461e-02, -1.90095194e-02,\n",
       "        -4.16539572e-02, -5.53315654e-02,  3.14246118e-03, -4.05709445e-02,\n",
       "        -4.65663010e-03,  1.20834326e-02,  3.92554514e-02, -1.48489196e-02,\n",
       "        -4.43880334e-02, -1.95002258e-02, -2.00037658e-02, -3.84879708e-02,\n",
       "         6.50726929e-02,  1.58443046e-03,  2.42224652e-02,  2.11766735e-02,\n",
       "        -2.80457046e-02,  5.06496280e-02, -3.17925401e-02, -3.93059961e-02,\n",
       "        -7.48628378e-02, -1.47939501e-02,  2.93548824e-03, -1.90877169e-03,\n",
       "        -4.62152772e-02,  2.79246029e-02,  5.36212623e-02,  5.08887433e-02,\n",
       "        -3.63443308e-02,  4.83042300e-02,  2.08878852e-02,  4.74292152e-02,\n",
       "         4.92658047e-03, -2.71410700e-02,  5.47686145e-02, -4.14409786e-02,\n",
       "        -5.68513246e-03, -3.04765999e-02,  3.94588616e-03, -3.12195774e-02,\n",
       "        -4.37383167e-02,  2.12003756e-02, -1.80493910e-02,  2.81700008e-02,\n",
       "         3.96551527e-02, -5.35950810e-02,  5.33269830e-02,  7.67342979e-03,\n",
       "        -2.33187266e-02, -1.42170535e-02,  5.31647839e-02, -3.49745527e-02,\n",
       "         6.54081479e-02,  4.37313691e-02, -7.25451186e-02,  4.89383824e-02,\n",
       "        -9.12464503e-03,  4.59331796e-02, -3.46429832e-02, -2.72386428e-02,\n",
       "        -3.04770656e-02, -4.05410156e-02,  5.07943928e-02,  2.39161514e-02,\n",
       "        -4.21275757e-02, -7.53406584e-02, -6.37596459e-05,  2.31819898e-02,\n",
       "         2.98202299e-02, -4.67951819e-02,  1.05024604e-02, -8.33890680e-03,\n",
       "        -2.53908318e-02, -2.78924149e-03, -5.80482334e-02, -3.58987972e-02,\n",
       "         1.04234042e-02, -3.31453644e-02, -2.29871310e-02,  1.90615170e-02,\n",
       "        -4.05620448e-02,  3.41109931e-03,  1.07716331e-02,  5.10822386e-02,\n",
       "        -3.88363972e-02, -3.84784639e-02,  4.38734069e-02, -3.46119292e-02,\n",
       "         1.73041504e-02,  1.62715651e-02,  2.14489587e-02, -2.26181485e-02,\n",
       "        -1.69366337e-02,  2.30086185e-02,  2.55132299e-02,  8.10870305e-02,\n",
       "         5.52573465e-02,  1.81327760e-02,  2.32691020e-02,  7.37191513e-02,\n",
       "        -2.53651366e-02,  1.41270999e-02,  7.17904419e-03,  4.39647809e-02,\n",
       "        -1.27544980e-02,  2.30466351e-02,  3.01264487e-02, -7.24173384e-03,\n",
       "         3.82401608e-02,  5.56619279e-02, -6.76997975e-02, -2.43170094e-02,\n",
       "        -1.17052486e-02, -1.58955157e-02,  4.49812524e-02, -5.12633137e-02,\n",
       "         2.38026492e-02,  3.47883664e-02, -3.94905880e-02, -3.04278396e-02,\n",
       "         3.11546698e-02, -2.13786606e-02,  3.09259873e-02,  1.42324157e-02,\n",
       "        -6.56462237e-02,  1.46022215e-02,  3.42598325e-03,  4.44189981e-02,\n",
       "         2.20304076e-03, -1.86534114e-02,  1.99845210e-02, -5.16026430e-02,\n",
       "        -4.81741168e-02,  1.30593395e-02,  1.76973641e-02, -1.19784782e-02,\n",
       "        -9.83289629e-03, -7.01444894e-02, -6.58488646e-02,  6.75937012e-02,\n",
       "        -2.80171130e-02,  7.45123951e-03,  2.41913507e-03,  1.14713171e-02],\n",
       "       dtype=float32)}"
      ]
     },
     "execution_count": 36,
     "metadata": {},
     "output_type": "execute_result"
    }
   ],
   "source": [
    "documents[0] # let's see what `question_text_vector` looks like:"
   ]
  },
  {
   "cell_type": "code",
   "execution_count": 27,
   "id": "87e15557-d9a1-4255-bd24-96bc79be29c5",
   "metadata": {},
   "outputs": [],
   "source": [
    "# Define KNN search function\n",
    "\n",
    "def elastic_search_knn(field, vector, course):\n",
    "    knn = {\n",
    "        \"field\": field,\n",
    "        \"query_vector\": vector,\n",
    "        \"k\": 5,\n",
    "        \"num_candidates\": 10000,\n",
    "        \"filter\": {\n",
    "            \"term\": {\n",
    "                \"course\": course\n",
    "            }\n",
    "        }\n",
    "    }\n",
    "\n",
    "    search_query = {\n",
    "        \"knn\": knn,\n",
    "        \"_source\": [\"text\", \"section\", \"question\", \"course\", \"id\"]\n",
    "    }\n",
    "\n",
    "    es_results = es_client.search(\n",
    "        index=index_name,\n",
    "        body=search_query\n",
    "    )\n",
    "    \n",
    "    result_docs = []\n",
    "    \n",
    "    for hit in es_results['hits']['hits']:\n",
    "        result_docs.append(hit['_source'])\n",
    "\n",
    "    return result_docs\n"
   ]
  },
  {
   "cell_type": "markdown",
   "id": "448370ce-0615-40fe-89c3-0daa74fa5526",
   "metadata": {},
   "source": [
    "The next line performs a KNN search on `question_text_vector` using the query vector v, returning the top 5 similar documents within the \"machine-learning-zoomcamp\" course:"
   ]
  },
  {
   "cell_type": "code",
   "execution_count": 29,
   "id": "63585c80-7334-4101-8863-90e662c14a51",
   "metadata": {},
   "outputs": [
    {
     "data": {
      "text/plain": [
       "[{'question': 'The course has already started. Can I still join it?',\n",
       "  'course': 'machine-learning-zoomcamp',\n",
       "  'section': 'General course-related questions',\n",
       "  'text': 'Yes, you can. You won’t be able to submit some of the homeworks, but you can still take part in the course.\\nIn order to get a certificate, you need to submit 2 out of 3 course projects and review 3 peers’ Projects by the deadline. It means that if you join the course at the end of November and manage to work on two projects, you will still be eligible for a certificate.',\n",
       "  'id': 'ee58a693'},\n",
       " {'question': 'I just joined. What should I do next? How can I access course materials?',\n",
       "  'course': 'machine-learning-zoomcamp',\n",
       "  'section': 'General course-related questions',\n",
       "  'text': 'Welcome to the course! Go to the course page (http://mlzoomcamp.com/), scroll down and start going through the course materials. Then read everything in the cohort folder for your cohort’s year.\\nClick on the links and start watching the videos. Also watch office hours from previous cohorts. Go to DTC youtube channel and click on Playlists and search for {course yyyy}. ML Zoomcamp was first launched in 2021.\\nOr you can just use this link: http://mlzoomcamp.com/#syllabus',\n",
       "  'id': '0a278fb2'},\n",
       " {'question': \"I filled the form, but haven't received a confirmation email. Is it normal?\",\n",
       "  'course': 'machine-learning-zoomcamp',\n",
       "  'section': 'General course-related questions',\n",
       "  'text': \"The process is automated now, so you should receive the email eventually. If you haven’t, check your promotions tab in Gmail as well as spam.\\nIf you unsubscribed from our newsletter, you won't get course related updates too.\\nBut don't worry, it’s not a problem. To make sure you don’t miss anything, join the #course-ml-zoomcamp channel in Slack and our telegram channel with announcements. This is enough to follow the course.\",\n",
       "  'id': '6ba259b1'},\n",
       " {'question': 'Can I do the course in other languages, like R or Scala?',\n",
       "  'course': 'machine-learning-zoomcamp',\n",
       "  'section': 'Miscellaneous',\n",
       "  'text': 'Technically, yes. Advisable? Not really. Reasons:\\nSome homework(s) asks for specific python library versions.\\nAnswers may not match in MCQ options if using different languages other than Python 3.10 (the recommended version for 2023 cohort)\\nAnd as for midterms/capstones, your peer-reviewers may not know these other languages. Do you want to be penalized for others not knowing these other languages?\\nYou can create a separate repo using course’s lessons but written in other languages for your own learnings, but not advisable for submissions.\\ntx[source]',\n",
       "  'id': '9f261648'},\n",
       " {'question': 'The course videos are from the previous iteration. Will you release new ones or we’ll use the videos from 2021?',\n",
       "  'course': 'machine-learning-zoomcamp',\n",
       "  'section': 'General course-related questions',\n",
       "  'text': 'We won’t re-record the course videos. The focus of the course and the skills we want to teach remained the same, and the videos are still up-to-date.\\nIf you haven’t taken part in the previous iteration, you can start watching the videos. It’ll be useful for you and you will learn new things. However, we recommend using Python 3.10 now instead of Python 3.8.',\n",
       "  'id': 'e7ba6b8a'}]"
      ]
     },
     "execution_count": 29,
     "metadata": {},
     "output_type": "execute_result"
    }
   ],
   "source": [
    "# Run search\n",
    "elastic_search_knn('question_text_vector', v, 'machine-learning-zoomcamp')\n"
   ]
  },
  {
   "cell_type": "markdown",
   "id": "b956e110-d2c3-40d5-bbbc-236be5564623",
   "metadata": {},
   "source": [
    "> The ID of the doc with the highest score is ee58a693."
   ]
  },
  {
   "cell_type": "markdown",
   "id": "1e41950b-c5ca-44cb-bc6a-189571f3ca70",
   "metadata": {},
   "source": [
    "# Q6. Hit-rate for Elasticsearch"
   ]
  },
  {
   "cell_type": "markdown",
   "id": "f1c79ce6-4272-4f72-9c18-e0cc74f23fbd",
   "metadata": {},
   "source": [
    "The search engine we used in Q4 computed the similarity between the query and ALL the vectors in our database. Usually this is not practical, as we may have a lot of data.\n",
    "\n",
    "Elasticsearch uses approximate techniques to make it faster.\n",
    "\n",
    "Let's evaluate how worse the results are when we switch from exact search (as in Q4) to approximate search with Elastic.\n",
    "\n",
    "---------------------"
   ]
  },
  {
   "cell_type": "markdown",
   "id": "278ad41f-1547-4bde-823a-18d0ed80b020",
   "metadata": {},
   "source": [
    "The following code defines a function `question_vector_knn()` which performs a K-Nearest Neighbors (KNN) search using a query from a provided dataset. It takes the question text from the query, encodes it into a vector, and uses this vector to search for the most similar documents in a pre-existing Elasticsearch index. The search is restricted to the \"machine-learning-zoomcamp\" course.\n",
    "\n",
    "The code then uses the evaluate() function to assess the search performance of question_vector_knn() on a ground truth dataset, measuring metrics like Hit Rate and Mean Reciprocal Rank (MRR)."
   ]
  },
  {
   "cell_type": "code",
   "execution_count": 33,
   "id": "c2209711-2283-48d2-be25-03e5a12479f2",
   "metadata": {},
   "outputs": [],
   "source": [
    "def question_vector_knn(q):\n",
    "    \"\"\"\n",
    "    Encodes the question text from a query into a vector and performs a KNN search\n",
    "    within the 'machine-learning-zoomcamp' course to retrieve the most similar documents.\n",
    "    \n",
    "    Args:\n",
    "        q (dict): A dictionary containing at least the 'question' field with the text of the query.\n",
    "    \n",
    "    Returns:\n",
    "        list: A list of the top matching documents from the KNN search, ordered by similarity.\n",
    "    \"\"\"\n",
    "    \n",
    "    # Extract the 'question' text from the query dictionary\n",
    "    question = q['question']\n",
    "    \n",
    "    # Specify the course to restrict the search scope\n",
    "    course = 'machine-learning-zoomcamp'\n",
    "    \n",
    "    # Encode the question into a dense vector using the embedding model\n",
    "    v_q = embedding_model.encode(question)\n",
    "    \n",
    "    # Perform KNN search on the 'question_text_vector' field using the query vector\n",
    "    return elastic_search_knn('question_text_vector', v_q, course)"
   ]
  },
  {
   "cell_type": "code",
   "execution_count": 34,
   "id": "2f1e2386-dccb-4e56-b5dc-5606a55e4c0a",
   "metadata": {},
   "outputs": [
    {
     "data": {
      "text/plain": [
       "[{'question': 'What if I miss a session?',\n",
       "  'course': 'machine-learning-zoomcamp',\n",
       "  'section': 'General course-related questions',\n",
       "  'text': 'Everything is recorded, so you won’t miss anything. You will be able to ask your questions for office hours in advance and we will cover them during the live stream. Also, you can always ask questions in Slack.',\n",
       "  'id': '5170565b'},\n",
       " {'question': 'Is it going to be live? When?',\n",
       "  'course': 'machine-learning-zoomcamp',\n",
       "  'section': 'General course-related questions',\n",
       "  'text': 'The course videos are pre-recorded, you can start watching the course right now.\\nWe will also occasionally have office hours - live sessions where we will answer your questions. The office hours sessions are recorded too.\\nYou can see the office hours as well as the pre-recorded course videos in the course playlist on YouTube.',\n",
       "  'id': '39fda9f0'},\n",
       " {'question': 'The course videos are from the previous iteration. Will you release new ones or we’ll use the videos from 2021?',\n",
       "  'course': 'machine-learning-zoomcamp',\n",
       "  'section': 'General course-related questions',\n",
       "  'text': 'We won’t re-record the course videos. The focus of the course and the skills we want to teach remained the same, and the videos are still up-to-date.\\nIf you haven’t taken part in the previous iteration, you can start watching the videos. It’ll be useful for you and you will learn new things. However, we recommend using Python 3.10 now instead of Python 3.8.',\n",
       "  'id': 'e7ba6b8a'},\n",
       " {'question': 'Will I get a certificate if I missed the midterm project?',\n",
       "  'course': 'machine-learning-zoomcamp',\n",
       "  'section': 'General course-related questions',\n",
       "  'text': \"Yes, it's possible. See the previous answer.\",\n",
       "  'id': '1d644223'},\n",
       " {'question': 'Are projects solo or collaborative/group work?',\n",
       "  'course': 'machine-learning-zoomcamp',\n",
       "  'section': 'Projects (Midterm and Capstone)',\n",
       "  'text': 'Answer: All midterms and capstones are meant to be solo projects. [source @Alexey]',\n",
       "  'id': '4dfb5d4f'}]"
      ]
     },
     "execution_count": 34,
     "metadata": {},
     "output_type": "execute_result"
    }
   ],
   "source": [
    "# Example usage of the question_vector_knn function\n",
    "# Runs the KNN search on the 11th query in the ground truth dataset\n",
    "question_vector_knn(ground_truth[10])"
   ]
  },
  {
   "cell_type": "code",
   "execution_count": 32,
   "id": "0835e27a-a6ec-41fe-aa96-17c8c5d15e37",
   "metadata": {},
   "outputs": [
    {
     "data": {
      "application/vnd.jupyter.widget-view+json": {
       "model_id": "af42481de58e4be78d6edd18c55ab9f3",
       "version_major": 2,
       "version_minor": 0
      },
      "text/plain": [
       "  0%|          | 0/1830 [00:00<?, ?it/s]"
      ]
     },
     "metadata": {},
     "output_type": "display_data"
    },
    {
     "data": {
      "text/plain": [
       "{'hit_rate': 0.9398907103825137, 'mrr': 0.8502823315118397}"
      ]
     },
     "execution_count": 32,
     "metadata": {},
     "output_type": "execute_result"
    }
   ],
   "source": [
    "# Evaluate the performance of the question_vector_knn function\n",
    "# Measures Hit Rate and MRR based on the ground truth data\n",
    "evaluate(ground_truth, question_vector_knn)"
   ]
  },
  {
   "cell_type": "markdown",
   "id": "61272581-3a28-4413-8395-d56507bca565",
   "metadata": {},
   "source": [
    "> The hitrate for our dataset for elastic is 0.93, i.e. the same as in exact search in Q4"
   ]
  },
  {
   "cell_type": "code",
   "execution_count": null,
   "id": "4a80f866-509c-41a6-a080-f4d028570840",
   "metadata": {},
   "outputs": [],
   "source": []
  }
 ],
 "metadata": {
  "kernelspec": {
   "display_name": "Python 3 (ipykernel)",
   "language": "python",
   "name": "python3"
  },
  "language_info": {
   "codemirror_mode": {
    "name": "ipython",
    "version": 3
   },
   "file_extension": ".py",
   "mimetype": "text/x-python",
   "name": "python",
   "nbconvert_exporter": "python",
   "pygments_lexer": "ipython3",
   "version": "3.12.1"
  }
 },
 "nbformat": 4,
 "nbformat_minor": 5
}
