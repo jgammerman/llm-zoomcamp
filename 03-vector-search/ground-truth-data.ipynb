{
 "cells": [
  {
   "cell_type": "markdown",
   "id": "2b8b2870-a8fc-47b3-90a1-8a9ea8adf97d",
   "metadata": {},
   "source": [
    "# Point of notebook: Generating a set of questions for each record in the FAQ, and formatting it properly"
   ]
  },
  {
   "cell_type": "code",
   "execution_count": 1,
   "id": "9e68505e-4e05-4b25-bd77-6d0d4fefaf1b",
   "metadata": {},
   "outputs": [],
   "source": [
    "import requests\n",
    "\n",
    "# URL of the JSON file containing the course documents information\n",
    "docs_url = 'https://github.com/DataTalksClub/llm-zoomcamp/blob/main/01-intro/documents.json?raw=1'\n",
    "\n",
    "# Send a GET request to the URL to retrieve the JSON data\n",
    "docs_response = requests.get(docs_url)\n",
    "\n",
    "# Parse the JSON response into a Python dictionary\n",
    "documents_raw = docs_response.json()\n",
    "\n",
    "# Initialize an empty list to store the processed document information\n",
    "documents = []\n",
    "\n",
    "# Loop through each course in the raw documents data\n",
    "for course in documents_raw:\n",
    "    # Extract the course name for the current course\n",
    "    course_name = course['course']\n",
    "\n",
    "    # Loop through the documents associated with the current course\n",
    "    for doc in course['documents']:\n",
    "        # Add the course name to each document's dictionary\n",
    "        doc['course'] = course_name\n",
    "        \n",
    "        # Append the updated document (with course name) to the documents list\n",
    "        documents.append(doc)\n",
    "\n",
    "# Now 'documents' contains a list of all documents with the associated course name added\n"
   ]
  },
  {
   "cell_type": "code",
   "execution_count": null,
   "id": "0a28887f-4d87-40f1-b9a3-238a986dfa30",
   "metadata": {},
   "outputs": [],
   "source": [
    "# Generating an id for each record in the FAQ"
   ]
  },
  {
   "cell_type": "code",
   "execution_count": 2,
   "id": "e2c5a054-e6be-44e3-b806-92f1e70fc156",
   "metadata": {},
   "outputs": [
    {
     "data": {
      "text/plain": [
       "{'text': \"Yes, even if you don't register, you're still eligible to submit the homeworks.\\nBe aware, however, that there will be deadlines for turning in the final projects. So don't leave everything for the last minute.\",\n",
       " 'section': 'General course-related questions',\n",
       " 'question': 'Course - Can I still join the course after the start date?',\n",
       " 'course': 'data-engineering-zoomcamp',\n",
       " 'id': 2}"
      ]
     },
     "execution_count": 2,
     "metadata": {},
     "output_type": "execute_result"
    }
   ],
   "source": [
    "n = len(documents)\n",
    "\n",
    "for i in range(n):\n",
    "    documents[i]['id'] = i\n",
    "\n",
    "documents[2]"
   ]
  },
  {
   "cell_type": "markdown",
   "id": "b344b18e-25ef-4882-9e53-fdcf750b68a8",
   "metadata": {},
   "source": [
    "But this approach means we can't change the order of the records in the FAQ so we take a different approach..."
   ]
  },
  {
   "cell_type": "markdown",
   "id": "76b705ff-25a5-405f-a4dd-34a8324a1095",
   "metadata": {},
   "source": [
    "The following function is used for generating a unique ID for each document based on its content, which can be used for easy identification and storage. Hashing ensures that even slight differences in the input (e.g., a different course name or text) result in completely different outputs. Truncating the hash is a balance between uniqueness and brevity. By taking the first 8 characters, you get a short identifier, but MD5 still provides a reasonable chance that the ID will remain unique for different documents."
   ]
  },
  {
   "cell_type": "code",
   "execution_count": 3,
   "id": "114221c6-9e7e-4102-be7c-fff0d32637eb",
   "metadata": {},
   "outputs": [],
   "source": [
    "import hashlib\n",
    "\n",
    "def generate_document_id(doc):\n",
    "    # Create a string combining 'course', 'question', and the first 10 characters of 'text'\n",
    "    combined = f\"{doc['course']}-{doc['question']}-{doc['text'][:10]}\"\n",
    "    \n",
    "    # Create an MD5 hash object from the combined string\n",
    "    hash_object = hashlib.md5(combined.encode())\n",
    "    \n",
    "    # Convert the hash object into its hexadecimal representation\n",
    "    hash_hex = hash_object.hexdigest()\n",
    "    \n",
    "    # Take the first 8 characters of the hash as the document ID\n",
    "    document_id = hash_hex[:8]\n",
    "    \n",
    "    # Return the generated document ID\n",
    "    return document_id\n"
   ]
  },
  {
   "cell_type": "code",
   "execution_count": 5,
   "id": "adebbc84-c32e-4a2e-9a68-5e0b84d7f0ff",
   "metadata": {},
   "outputs": [],
   "source": [
    "for doc in documents:\n",
    "    doc['id'] = generate_document_id(doc)"
   ]
  },
  {
   "cell_type": "code",
   "execution_count": 6,
   "id": "af8e6aeb-f041-4746-a7dc-e143fac4ca6a",
   "metadata": {},
   "outputs": [
    {
     "data": {
      "text/plain": [
       "{'text': \"You don't need it. You're accepted. You can also just start learning and submitting homework without registering. It is not checked against any registered list. Registration is just to gauge interest before the start date.\",\n",
       " 'section': 'General course-related questions',\n",
       " 'question': 'Course - I have registered for the Data Engineering Bootcamp. When can I expect to receive the confirmation email?',\n",
       " 'course': 'data-engineering-zoomcamp',\n",
       " 'id': '0bbf41ec'}"
      ]
     },
     "execution_count": 6,
     "metadata": {},
     "output_type": "execute_result"
    }
   ],
   "source": [
    "documents[3]"
   ]
  },
  {
   "cell_type": "markdown",
   "id": "117cdd3b-16e0-48db-83a4-92109dafcdda",
   "metadata": {},
   "source": [
    "Purpose of the following code:\n",
    "\n",
    "- Grouping by Document ID: This code groups all documents by their id and checks for duplicates. Each id serves as a key in the hashes dictionary, and the associated list contains all documents with that id.\n",
    "- Finding Duplicates: The second loop checks for IDs that appear more than once (duplicates).\n",
    "- Retrieving Documents by ID: The final line retrieves all documents with a specific id ('593f7569' in this case)."
   ]
  },
  {
   "cell_type": "code",
   "execution_count": 7,
   "id": "36a8abf6-0afe-419e-8de4-8efbc145a147",
   "metadata": {},
   "outputs": [
    {
     "data": {
      "text/plain": [
       "(947, 948)"
      ]
     },
     "execution_count": 7,
     "metadata": {},
     "output_type": "execute_result"
    }
   ],
   "source": [
    "from collections import defaultdict\n",
    "\n",
    "hashes = defaultdict(list)\n",
    "\n",
    "# Iterate through each document in 'documents'\n",
    "for doc in documents:\n",
    "    # Extract the 'id' from the document\n",
    "    doc_id = doc['id']\n",
    "    \n",
    "    # Append the document to the list corresponding to its ID in 'hashes'\n",
    "    hashes[doc_id].append(doc)\n",
    "\n",
    "# Return the number of unique keys in 'hashes' and the total number of documents\n",
    "len(hashes), len(documents)\n"
   ]
  },
  {
   "cell_type": "markdown",
   "id": "c496f04c-b8b1-4167-8748-6176dc88957a",
   "metadata": {},
   "source": [
    "So actually we have one fewer hashes then documents, but that's ok."
   ]
  },
  {
   "cell_type": "code",
   "execution_count": 8,
   "id": "b1545e06-990f-49cd-8760-e1d02182e38c",
   "metadata": {},
   "outputs": [
    {
     "name": "stdout",
     "output_type": "stream",
     "text": [
      "593f7569 2\n"
     ]
    },
    {
     "data": {
      "text/plain": [
       "[{'text': \"They both do the same, it's just less typing from the script.\\nAsked by Andrew Katoch, Added by Edidiong Esu\",\n",
       "  'section': '6. Decision Trees and Ensemble Learning',\n",
       "  'question': 'Does it matter if we let the Python file create the server or if we run gunicorn directly?',\n",
       "  'course': 'machine-learning-zoomcamp',\n",
       "  'id': '593f7569'},\n",
       " {'text': \"They both do the same, it's just less typing from the script.\",\n",
       "  'section': '6. Decision Trees and Ensemble Learning',\n",
       "  'question': 'Does it matter if we let the Python file create the server or if we run gunicorn directly?',\n",
       "  'course': 'machine-learning-zoomcamp',\n",
       "  'id': '593f7569'}]"
      ]
     },
     "execution_count": 8,
     "metadata": {},
     "output_type": "execute_result"
    }
   ],
   "source": [
    "# Check for duplicate documents based on their ID\n",
    "for k, values in hashes.items():\n",
    "    if len(values) > 1:\n",
    "        print(k, len(values))  # Print the document ID and how many duplicates exist\n",
    "\n",
    "# Retrieve all documents with the specific ID '593f7569', which we know is the duplicate\n",
    "hashes['593f7569']"
   ]
  },
  {
   "cell_type": "markdown",
   "id": "51c68298-63e6-4366-91e9-33a22bb35b65",
   "metadata": {},
   "source": [
    "The following code writes a list of documents with unique IDs into a JSON file:"
   ]
  },
  {
   "cell_type": "code",
   "execution_count": 9,
   "id": "faae96d6-5cda-4a51-b584-0fc19cd64fb2",
   "metadata": {},
   "outputs": [],
   "source": [
    "import json\n",
    "\n",
    "# Open a file called 'documents-with-ids.json' in write text mode ('wt')\n",
    "with open('documents-with-ids.json', 'wt') as f_out:\n",
    "    # Write the 'documents' data as a JSON file with an indentation of 2 spaces\n",
    "    json.dump(documents, f_out, indent=2)\n"
   ]
  },
  {
   "cell_type": "code",
   "execution_count": 10,
   "id": "6806fe10-fbf9-4beb-8271-cd1277826bfe",
   "metadata": {},
   "outputs": [
    {
     "name": "stdout",
     "output_type": "stream",
     "text": [
      "[\n",
      "  {\n",
      "    \"text\": \"The purpose of this document is to capture frequently asked technical questions\\nThe exact day and hour of the course will be 15th Jan 2024 at 17h00. The course will start with the first  \\u201cOffice Hours'' live.1\\nSubscribe to course public Google Calendar (it works from Desktop only).\\nRegister before the course starts using this link.\\nJoin the course Telegram channel with announcements.\\nDon\\u2019t forget to register in DataTalks.Club's Slack and join the channel.\",\n",
      "    \"section\": \"General course-related questions\",\n",
      "    \"question\": \"Course - When will the course start?\",\n",
      "    \"course\": \"data-engineering-zoomcamp\",\n",
      "    \"id\": \"c02e79ef\"\n",
      "  },\n",
      "  {\n",
      "    \"text\": \"GitHub - DataTalksClub data-engineering-zoomcamp#prerequisites\",\n"
     ]
    }
   ],
   "source": [
    "!head documents-with-ids.json"
   ]
  },
  {
   "cell_type": "markdown",
   "id": "d7c4a919-e4de-4e12-83f8-6d5f4a8d3499",
   "metadata": {},
   "source": [
    "# Prompt"
   ]
  },
  {
   "cell_type": "markdown",
   "id": "04649cd5-4ee3-4555-b36e-2f8ee0584b88",
   "metadata": {},
   "source": [
    "The following prompt generates questions that a student might ask based on an FAQ record. It minimizes the use of specific words from the record and keeps the questions general and concise."
   ]
  },
  {
   "cell_type": "code",
   "execution_count": 11,
   "id": "f569da7c-6128-48e8-a847-ef163fca2d50",
   "metadata": {},
   "outputs": [],
   "source": [
    "\n",
    "prompt_template = \"\"\"\n",
    "You emulate a student who's taking our course.\n",
    "Formulate 5 questions this student might ask based on a FAQ record. The record\n",
    "should contain the answer to the questions, and the questions should be complete and not too short.\n",
    "If possible, use as fewer words as possible from the record. \n",
    "\n",
    "The record:\n",
    "\n",
    "section: {section}\n",
    "question: {question}\n",
    "answer: {text}\n",
    "\n",
    "Provide the output in parsable JSON without using code blocks:\n",
    "\n",
    "[\"question1\", \"question2\", ..., \"question5\"]\n",
    "\"\"\".strip()"
   ]
  },
  {
   "cell_type": "markdown",
   "id": "1f2502ff-6599-4e84-b6ec-0f96b39304c2",
   "metadata": {},
   "source": [
    "The following code generates questions based on a document by formatting a prompt and sending it to the OpenAI GPT-4o model for completion. It extracts and returns the generated response, which is a list of questions formatted as a JSON string."
   ]
  },
  {
   "cell_type": "code",
   "execution_count": 12,
   "id": "63b309a5-c6f0-412f-928a-fd5cedefa680",
   "metadata": {},
   "outputs": [],
   "source": [
    "from openai import OpenAI  \n",
    "\n",
    "client = OpenAI() \n",
    "\n",
    "def generate_questions(doc):\n",
    "    # Creates a prompt by formatting the prompt_template using the 'doc' dictionary\n",
    "    prompt = prompt_template.format(**doc)\n",
    "\n",
    "    # Sends a request to the OpenAI GPT-4 model with the generated prompt\n",
    "    # The model 'gpt-4o' might be a typo, 'gpt-4' is more common\n",
    "    response = client.chat.completions.create(\n",
    "        model='gpt-4o',  # Specifies the model (might need to be 'gpt-4')\n",
    "        messages=[{\"role\": \"user\", \"content\": prompt}]  # Defines the message for the model (as a user input)\n",
    "    )\n",
    "\n",
    "    # Extracts the response from the OpenAI API by accessing the first completion choice and the content of the message\n",
    "    json_response = response.choices[0].message.content\n",
    "\n",
    "    # Returns the generated response, which should be a JSON-formatted string containing the 5 questions\n",
    "    return json_response\n"
   ]
  },
  {
   "cell_type": "markdown",
   "id": "dca8b74a-2a12-4778-a077-5d7e48bbe161",
   "metadata": {},
   "source": [
    "\n",
    "The following code iterates through a list of documents, generating and storing questions for each unique document based on its ID. If a document has already been processed, it is skipped to avoid duplication."
   ]
  },
  {
   "cell_type": "code",
   "execution_count": 13,
   "id": "76378e21-1d3f-46e1-9140-850c2a6a2fc4",
   "metadata": {},
   "outputs": [
    {
     "data": {
      "application/vnd.jupyter.widget-view+json": {
       "model_id": "b41bee61bd8041abadcb441e96cf9696",
       "version_major": 2,
       "version_minor": 0
      },
      "text/plain": [
       "  0%|          | 0/948 [00:00<?, ?it/s]"
      ]
     },
     "metadata": {},
     "output_type": "display_data"
    }
   ],
   "source": [
    "# from tqdm.auto import tqdm  # Import the tqdm progress bar for tracking the progress of a loop.\n",
    "\n",
    "# results = {}  # Initialize an empty dictionary to store the results.\n",
    "\n",
    "# # Loop through each document in the 'documents' list, displaying a progress bar using tqdm.\n",
    "# for doc in tqdm(documents):  \n",
    "#     doc_id = doc['id']  # Extract the 'id' from each document.\n",
    "    \n",
    "#     # If the document ID is already in the 'results' dictionary, skip to the next iteration.\n",
    "#     if doc_id in results:\n",
    "#         continue  # Skip any further processing for this document if it's already processed.\n",
    "\n",
    "#     # Generate questions for the document using the 'generate_questions' function.\n",
    "#     questions = generate_questions(doc)\n",
    "    \n",
    "#     # Store the generated questions in the 'results' dictionary, using the document ID as the key.\n",
    "#     results[doc_id] = questions\n"
   ]
  },
  {
   "cell_type": "code",
   "execution_count": 16,
   "id": "3eb18399-a1f7-4b30-a169-1d2b3bb688aa",
   "metadata": {},
   "outputs": [],
   "source": [
    "# import pickle\n",
    "\n",
    "# # Save the 'results' dictionary to a pickle file.\n",
    "# with open('results.pkl', 'wb') as f:\n",
    "#     pickle.dump(results, f)"
   ]
  },
  {
   "cell_type": "code",
   "execution_count": 17,
   "id": "82ce8f14-d3d3-430a-8236-f848fd918d52",
   "metadata": {},
   "outputs": [],
   "source": [
    "with open('results.pkl', 'rb') as f_in:\n",
    "    results = pickle.load(f_in)"
   ]
  },
  {
   "cell_type": "code",
   "execution_count": 18,
   "id": "5e5298a0-f510-4356-949a-47278859ac32",
   "metadata": {},
   "outputs": [
    {
     "data": {
      "text/plain": [
       "'[\\n  \"Where can I find the prerequisites for this class?\",\\n  \"Is there a link to the course requirements?\",\\n  \"Where are details about necessary prior knowledge for this course?\",\\n  \"How can I check if I meet the course prerequisites?\",\\n  \"Where should I look for the entry requirements of this course?\"\\n]'"
      ]
     },
     "execution_count": 18,
     "metadata": {},
     "output_type": "execute_result"
    }
   ],
   "source": [
    "results['1f6520ca']"
   ]
  },
  {
   "cell_type": "markdown",
   "id": "170002e5-1bc2-407b-b955-1a2ef9b281cd",
   "metadata": {},
   "source": [
    "### Parse JSON strings as python dictionary"
   ]
  },
  {
   "cell_type": "code",
   "execution_count": 19,
   "id": "819064f5-85e7-4b99-b836-f55d1cc0d9a8",
   "metadata": {},
   "outputs": [],
   "source": [
    "import json \n",
    "parsed_results = {}  # Initialize an empty dictionary to store the parsed results.\n",
    "\n",
    "# Loop through the 'results' dictionary, where each key is a 'doc_id' and each value is a JSON string.\n",
    "for doc_id, json_questions in results.items():\n",
    "    \n",
    "    # Parse the JSON string 'json_questions' into a native Python object (e.g. dictionary).\n",
    "    # json.loads() converts a JSON-formatted string into a corresponding Python object.\n",
    "    parsed_results[doc_id] = json.loads(json_questions)\n",
    "\n",
    "    # Now 'parsed_results[doc_id]' will store the Python object instead of a JSON string.\n"
   ]
  },
  {
   "cell_type": "code",
   "execution_count": 29,
   "id": "26c25c83-ecda-4c4c-84bf-ac986147eafd",
   "metadata": {},
   "outputs": [],
   "source": [
    "# parsed_results"
   ]
  },
  {
   "cell_type": "code",
   "execution_count": 25,
   "id": "e8191404-7b5d-4ee8-9926-29fb06b72723",
   "metadata": {},
   "outputs": [
    {
     "name": "stdout",
     "output_type": "stream",
     "text": [
      "First document ID: c02e79ef\n",
      "First parsed value: ['When does the course begin?', 'What time will the course start on January 15th?', \"How can I subscribe to the course's Google Calendar?\", 'Where should I register before the course starts?', 'How do I join the course Telegram channel?']\n"
     ]
    }
   ],
   "source": [
    "# Inspect the results\n",
    "## Get the first key-value pair from the parsed_results dictionary\n",
    "first_key, first_value = next(iter(parsed_results.items()))\n",
    "\n",
    "## Print the first key and the corresponding value (parsed JSON object)\n",
    "print(\"First document ID:\", first_key)\n",
    "print(\"First parsed value:\", first_value)\n"
   ]
  },
  {
   "cell_type": "markdown",
   "id": "2939cae0-99ea-444b-9967-da7a94501d77",
   "metadata": {},
   "source": [
    "# Mapping Questions to Course and Document Information for DataFrame Organization"
   ]
  },
  {
   "cell_type": "markdown",
   "id": "c9307022-7c4e-4946-a5fc-3851a54319e4",
   "metadata": {},
   "source": [
    "The following code processes a set of questions extracted from documents, associates them with their respective course and document ID, and organizes the data into a structured pandas DataFrame. This allows for easier analysis, manipulation, or export of the data for further use."
   ]
  },
  {
   "cell_type": "code",
   "execution_count": 31,
   "id": "96fb09b5-4dc3-4440-97b6-0174647ab586",
   "metadata": {},
   "outputs": [],
   "source": [
    "import pandas as pd\n",
    "\n",
    "# Create a dictionary mapping document IDs to their corresponding documents\n",
    "doc_index = {d['id']: d for d in documents}\n",
    "\n",
    "# Initialize an empty list for final results\n",
    "final_results = []\n",
    "\n",
    "# Loop through parsed questions by document ID\n",
    "for doc_id, questions in parsed_results.items():\n",
    "    course = doc_index[doc_id]['course']  # Get course info for the document\n",
    "    for q in questions:\n",
    "        final_results.append((q, course, doc_id))  # Append question, course, and doc_id to the results\n",
    "\n",
    "# Convert results list to a DataFrame\n",
    "df = pd.DataFrame(final_results, columns=['question', 'course', 'document'])\n"
   ]
  },
  {
   "cell_type": "code",
   "execution_count": 34,
   "id": "7bde0a5c-40f8-40e0-9dc2-f7e8db13a8ff",
   "metadata": {},
   "outputs": [
    {
     "data": {
      "text/html": [
       "<div>\n",
       "<style scoped>\n",
       "    .dataframe tbody tr th:only-of-type {\n",
       "        vertical-align: middle;\n",
       "    }\n",
       "\n",
       "    .dataframe tbody tr th {\n",
       "        vertical-align: top;\n",
       "    }\n",
       "\n",
       "    .dataframe thead th {\n",
       "        text-align: right;\n",
       "    }\n",
       "</style>\n",
       "<table border=\"1\" class=\"dataframe\">\n",
       "  <thead>\n",
       "    <tr style=\"text-align: right;\">\n",
       "      <th></th>\n",
       "      <th>question</th>\n",
       "      <th>course</th>\n",
       "      <th>document</th>\n",
       "    </tr>\n",
       "  </thead>\n",
       "  <tbody>\n",
       "    <tr>\n",
       "      <th>0</th>\n",
       "      <td>When does the course begin?</td>\n",
       "      <td>data-engineering-zoomcamp</td>\n",
       "      <td>c02e79ef</td>\n",
       "    </tr>\n",
       "    <tr>\n",
       "      <th>1</th>\n",
       "      <td>What time will the course start on January 15th?</td>\n",
       "      <td>data-engineering-zoomcamp</td>\n",
       "      <td>c02e79ef</td>\n",
       "    </tr>\n",
       "    <tr>\n",
       "      <th>2</th>\n",
       "      <td>How can I subscribe to the course's Google Cal...</td>\n",
       "      <td>data-engineering-zoomcamp</td>\n",
       "      <td>c02e79ef</td>\n",
       "    </tr>\n",
       "    <tr>\n",
       "      <th>3</th>\n",
       "      <td>Where should I register before the course starts?</td>\n",
       "      <td>data-engineering-zoomcamp</td>\n",
       "      <td>c02e79ef</td>\n",
       "    </tr>\n",
       "    <tr>\n",
       "      <th>4</th>\n",
       "      <td>How do I join the course Telegram channel?</td>\n",
       "      <td>data-engineering-zoomcamp</td>\n",
       "      <td>c02e79ef</td>\n",
       "    </tr>\n",
       "  </tbody>\n",
       "</table>\n",
       "</div>"
      ],
      "text/plain": [
       "                                            question  \\\n",
       "0                        When does the course begin?   \n",
       "1   What time will the course start on January 15th?   \n",
       "2  How can I subscribe to the course's Google Cal...   \n",
       "3  Where should I register before the course starts?   \n",
       "4         How do I join the course Telegram channel?   \n",
       "\n",
       "                      course  document  \n",
       "0  data-engineering-zoomcamp  c02e79ef  \n",
       "1  data-engineering-zoomcamp  c02e79ef  \n",
       "2  data-engineering-zoomcamp  c02e79ef  \n",
       "3  data-engineering-zoomcamp  c02e79ef  \n",
       "4  data-engineering-zoomcamp  c02e79ef  "
      ]
     },
     "execution_count": 34,
     "metadata": {},
     "output_type": "execute_result"
    }
   ],
   "source": [
    "df.head()"
   ]
  },
  {
   "cell_type": "code",
   "execution_count": 32,
   "id": "91e4c17c-bd95-46da-9875-3a385af8a349",
   "metadata": {},
   "outputs": [],
   "source": [
    "df.to_csv('ground-truth-data.csv', index=False)"
   ]
  },
  {
   "cell_type": "code",
   "execution_count": 33,
   "id": "1a4cc6c3-6a63-4f74-bcf0-3b3ccf6a82e8",
   "metadata": {},
   "outputs": [
    {
     "name": "stdout",
     "output_type": "stream",
     "text": [
      "question,course,document\n",
      "When does the course begin?,data-engineering-zoomcamp,c02e79ef\n",
      "What time will the course start on January 15th?,data-engineering-zoomcamp,c02e79ef\n",
      "How can I subscribe to the course's Google Calendar?,data-engineering-zoomcamp,c02e79ef\n",
      "Where should I register before the course starts?,data-engineering-zoomcamp,c02e79ef\n",
      "How do I join the course Telegram channel?,data-engineering-zoomcamp,c02e79ef\n",
      "Where can I find the prerequisites for this class?,data-engineering-zoomcamp,1f6520ca\n",
      "Is there a link to the course requirements?,data-engineering-zoomcamp,1f6520ca\n",
      "Where are details about necessary prior knowledge for this course?,data-engineering-zoomcamp,1f6520ca\n",
      "How can I check if I meet the course prerequisites?,data-engineering-zoomcamp,1f6520ca\n"
     ]
    }
   ],
   "source": [
    "!head ground-truth-data.csv"
   ]
  },
  {
   "cell_type": "code",
   "execution_count": null,
   "id": "a7620003-d854-4641-ba65-b8071558f8f9",
   "metadata": {},
   "outputs": [],
   "source": []
  },
  {
   "cell_type": "code",
   "execution_count": null,
   "id": "0b955fd9-e1d1-4590-92ff-fa367c07fc0c",
   "metadata": {},
   "outputs": [],
   "source": []
  }
 ],
 "metadata": {
  "kernelspec": {
   "display_name": "Python 3 (ipykernel)",
   "language": "python",
   "name": "python3"
  },
  "language_info": {
   "codemirror_mode": {
    "name": "ipython",
    "version": 3
   },
   "file_extension": ".py",
   "mimetype": "text/x-python",
   "name": "python",
   "nbconvert_exporter": "python",
   "pygments_lexer": "ipython3",
   "version": "3.12.1"
  }
 },
 "nbformat": 4,
 "nbformat_minor": 5
}
